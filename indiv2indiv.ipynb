{
 "cells": [
  {
   "cell_type": "code",
   "execution_count": 1,
   "metadata": {
    "executionInfo": {
     "elapsed": 1892,
     "status": "ok",
     "timestamp": 1656868994546,
     "user": {
      "displayName": "Yizhou Tan",
      "userId": "02431669335369619733"
     },
     "user_tz": 240
    },
    "id": "mAshP68jvnh7",
    "scrolled": false
   },
   "outputs": [],
   "source": [
    "import pandas as pd\n",
    "import fiona\n",
    "import geopandas as gpd\n",
    "from sqlalchemy import create_engine\n",
    "import numpy as np\n",
    "#import dedupe\n",
    "from dotenv import load_dotenv\n",
    "import os\n",
    "import pyArango\n",
    "import usaddress\n",
    "from usaddress import tag\n",
    "from scourgify import normalize_address_record\n",
    "import re\n",
    "import json"
   ]
  },
  {
   "cell_type": "code",
   "execution_count": 2,
   "metadata": {
    "executionInfo": {
     "elapsed": 14,
     "status": "ok",
     "timestamp": 1656868995457,
     "user": {
      "displayName": "Yizhou Tan",
      "userId": "02431669335369619733"
     },
     "user_tz": 240
    },
    "id": "W6XHklwDvnh9"
   },
   "outputs": [],
   "source": [
    "from pyArango.connection import *\n",
    "conn = Connection(username=\"root\", password=\"0505\")"
   ]
  },
  {
   "cell_type": "code",
   "execution_count": 3,
   "metadata": {
    "executionInfo": {
     "elapsed": 9,
     "status": "ok",
     "timestamp": 1656868996672,
     "user": {
      "displayName": "Yizhou Tan",
      "userId": "02431669335369619733"
     },
     "user_tz": 240
    },
    "id": "-rPnL-DZvnh-"
   },
   "outputs": [],
   "source": [
    "load_dotenv()\n",
    "PG_CONNECT = os.getenv(\"PG_CONNECT\")"
   ]
  },
  {
   "cell_type": "code",
   "execution_count": 4,
   "metadata": {
    "executionInfo": {
     "elapsed": 7,
     "status": "ok",
     "timestamp": 1656868997727,
     "user": {
      "displayName": "Yizhou Tan",
      "userId": "02431669335369619733"
     },
     "user_tz": 240
    },
    "id": "ZxT4nOcOvnh-"
   },
   "outputs": [],
   "source": [
    "# create arangoDB database, or open it if it already exists\n",
    "try:\n",
    "    corp_db = conn.createDatabase(name=\"corp_data\")\n",
    "    # from command line:\n",
    "    # arangoimport --file '''path to CorpData.csv''' --collection corp_data --create-collection true --type csv --server.database corp_data\n",
    "    # arangoimport --file '''path to CorpIndividualExport.csv''' --collection corp_individual --create-collection true --type csv --server.database corp_data\n",
    "\n",
    "except:\n",
    "    corp_db = conn[\"corp_data\"]"
   ]
  },
  {
   "cell_type": "code",
   "execution_count": 5,
   "metadata": {
    "id": "zim7sfDyvnh_"
   },
   "outputs": [],
   "source": [
    "# arangoDB database structure:\n",
    "\n",
    "# corp_db: arangoDB database\n",
    "# corp_db[\"corp_data\"]: arangoDB collection\n",
    "# corp_db[\"corp_data\"][17777999]: arangoDB document (one piece of data, or one corporation)"
   ]
  },
  {
   "cell_type": "code",
   "execution_count": 10,
   "metadata": {
    "executionInfo": {
     "elapsed": 59304,
     "status": "ok",
     "timestamp": 1656869080335,
     "user": {
      "displayName": "Yizhou Tan",
      "userId": "02431669335369619733"
     },
     "user_tz": 240
    },
    "id": "kP74RVOyvniA"
   },
   "outputs": [],
   "source": [
    "# extracting the values of the indiv_unique_address collection\n",
    "indiv_aql = \"FOR x IN indiv_unique_address RETURN x\"\n",
    "indiv_query_result = corp_db.AQLQuery(indiv_aql,rawResults=True, batchSize = 1000)\n",
    "col_indiv = {}\n",
    "ind_indiv = 0\n",
    "\n",
    "for indiv in indiv_query_result:\n",
    "    col_indiv[ind_indiv] = indiv\n",
    "    ind_indiv += 1\n",
    "\n",
    "indiv_df = pd.DataFrame.from_dict(data = col_indiv, orient = 'index')\n",
    "indiv_ar = indiv_df.to_numpy()"
   ]
  },
  {
   "cell_type": "code",
   "execution_count": 6,
   "metadata": {
    "executionInfo": {
     "elapsed": 59304,
     "status": "ok",
     "timestamp": 1656869080335,
     "user": {
      "displayName": "Yizhou Tan",
      "userId": "02431669335369619733"
     },
     "user_tz": 240
    },
    "id": "kP74RVOyvniA"
   },
   "outputs": [],
   "source": [
    "# extracting the values of the indiv_unique_address collection\n",
    "indiv_aql = \"FOR x IN indiv_unique_name_address RETURN x\"\n",
    "indiv_query_result = corp_db.AQLQuery(indiv_aql,rawResults=True, batchSize = 1000)\n",
    "col_indiv = {}\n",
    "ind_indiv = 0\n",
    "\n",
    "for indiv in indiv_query_result:\n",
    "    col_indiv[ind_indiv] = indiv\n",
    "    ind_indiv += 1\n",
    "\n",
    "indiv_short_df = pd.DataFrame.from_dict(data = col_indiv, orient = 'index')\n",
    "indiv_short = indiv_short_df.to_numpy()"
   ]
  },
  {
   "cell_type": "code",
   "execution_count": 7,
   "metadata": {},
   "outputs": [
    {
     "name": "stdout",
     "output_type": "stream",
     "text": [
      "['56380105' 'indiv_unique_address/56380105' '_ef6tPHC---' '00i6fl'\n",
      " 'RAMADAN MOHAMAD ZIAD' 'RAMADAN MOHAMAD'\n",
      " '85 NEWTON ST., , NORTHBOROUGH, MA']\n"
     ]
    }
   ],
   "source": [
    "print(indiv_ar[0])"
   ]
  },
  {
   "cell_type": "code",
   "execution_count": 17,
   "metadata": {},
   "outputs": [
    {
     "name": "stdout",
     "output_type": "stream",
     "text": [
      "2092355\n"
     ]
    }
   ],
   "source": [
    "print(len(indiv_short))"
   ]
  },
  {
   "cell_type": "code",
   "execution_count": 18,
   "metadata": {
    "scrolled": true
   },
   "outputs": [
    {
     "name": "stdout",
     "output_type": "stream",
     "text": [
      "2000\n",
      "2000000 2001000\n",
      "2001\n",
      "2001000 2002000\n",
      "2002\n",
      "2002000 2003000\n",
      "2003\n",
      "2003000 2004000\n",
      "2004\n",
      "2004000 2005000\n",
      "2005\n",
      "2005000 2006000\n",
      "2006\n",
      "2006000 2007000\n",
      "2007\n",
      "2007000 2008000\n",
      "2008\n",
      "2008000 2009000\n",
      "2009\n",
      "2009000 2010000\n",
      "2010\n",
      "2010000 2011000\n",
      "2011\n",
      "2011000 2012000\n",
      "2012\n",
      "2012000 2013000\n",
      "2013\n",
      "2013000 2014000\n",
      "2014\n",
      "2014000 2015000\n",
      "2015\n",
      "2015000 2016000\n",
      "2016\n",
      "2016000 2017000\n",
      "2017\n",
      "2017000 2018000\n",
      "2018\n",
      "2018000 2019000\n",
      "2019\n",
      "2019000 2020000\n",
      "2020\n",
      "2020000 2021000\n",
      "2021\n",
      "2021000 2022000\n",
      "2022\n",
      "2022000 2023000\n",
      "2023\n",
      "2023000 2024000\n",
      "2024\n",
      "2024000 2025000\n",
      "2025\n",
      "2025000 2026000\n",
      "2026\n",
      "2026000 2027000\n",
      "2027\n",
      "2027000 2028000\n",
      "2028\n",
      "2028000 2029000\n",
      "2029\n",
      "2029000 2030000\n",
      "2030\n",
      "2030000 2031000\n",
      "2031\n",
      "2031000 2032000\n",
      "2032\n",
      "2032000 2033000\n",
      "2033\n",
      "2033000 2034000\n",
      "2034\n",
      "2034000 2035000\n",
      "2035\n",
      "2035000 2036000\n",
      "2036\n",
      "2036000 2037000\n",
      "2037\n",
      "2037000 2038000\n",
      "2038\n",
      "2038000 2039000\n",
      "2039\n",
      "2039000 2040000\n",
      "2040\n",
      "2040000 2041000\n",
      "2041\n",
      "2041000 2042000\n",
      "2042\n",
      "2042000 2043000\n",
      "2043\n",
      "2043000 2044000\n",
      "2044\n",
      "2044000 2045000\n",
      "2045\n",
      "2045000 2046000\n",
      "2046\n",
      "2046000 2047000\n",
      "2047\n",
      "2047000 2048000\n",
      "2048\n",
      "2048000 2049000\n",
      "2049\n",
      "2049000 2050000\n",
      "2050\n",
      "2050000 2051000\n",
      "2051\n",
      "2051000 2052000\n",
      "2052\n",
      "2052000 2053000\n",
      "2053\n",
      "2053000 2054000\n",
      "2054\n",
      "2054000 2055000\n",
      "2055\n",
      "2055000 2056000\n",
      "2056\n",
      "2056000 2057000\n",
      "2057\n",
      "2057000 2058000\n",
      "2058\n",
      "2058000 2059000\n",
      "2059\n",
      "2059000 2060000\n",
      "2060\n",
      "2060000 2061000\n",
      "2061\n",
      "2061000 2062000\n",
      "2062\n",
      "2062000 2063000\n",
      "2063\n",
      "2063000 2064000\n",
      "2064\n",
      "2064000 2065000\n",
      "2065\n",
      "2065000 2066000\n",
      "2066\n",
      "2066000 2067000\n",
      "2067\n",
      "2067000 2068000\n",
      "2068\n",
      "2068000 2069000\n",
      "2069\n",
      "2069000 2070000\n",
      "2070\n",
      "2070000 2071000\n",
      "2071\n",
      "2071000 2072000\n",
      "2072\n",
      "2072000 2073000\n",
      "2073\n",
      "2073000 2074000\n",
      "2074\n",
      "2074000 2075000\n",
      "2075\n",
      "2075000 2076000\n",
      "2076\n",
      "2076000 2077000\n",
      "2077\n",
      "2077000 2078000\n",
      "2078\n",
      "2078000 2079000\n",
      "2079\n",
      "2079000 2080000\n",
      "2080\n",
      "2080000 2081000\n",
      "2081\n",
      "2081000 2082000\n",
      "2082\n",
      "2082000 2083000\n",
      "2083\n",
      "2083000 2084000\n",
      "2084\n",
      "2084000 2085000\n",
      "2085\n",
      "2085000 2086000\n",
      "2086\n",
      "2086000 2087000\n",
      "2087\n",
      "2087000 2088000\n",
      "2088\n",
      "2088000 2089000\n",
      "2089\n",
      "2089000 2090000\n",
      "2090\n",
      "2090000 2091000\n",
      "2091\n",
      "2091000 2092000\n",
      "2092\n",
      "2092000 2093000\n"
     ]
    }
   ],
   "source": [
    "def indiv2indiv_same(indiv_ar, indiv_short, batch_size): \n",
    "    \n",
    "    for i in range(2000,2093):\n",
    "        print(i)\n",
    "        print(i*batch_size,(i+1)*batch_size)\n",
    "        batch_ar = indiv_short[i*batch_size:(i+1)*batch_size][:] \n",
    "        \n",
    "        for j in range(0,batch_ar.shape[0]):\n",
    "            id1 = batch_ar[j][1]\n",
    "            indivs = np.where((indiv_ar[:,7]==batch_ar[j][7]))[0]\n",
    "            id2 = indiv_ar[indivs][:,1]\n",
    "            for k in id2:\n",
    "                edge_attributes = {\"_from\":id1, \"_to\": k, \"type\": 'indiv/same/address'}\n",
    "                edge = corp_db[\"indiv2indiv\"].createDocument(edge_attributes)\n",
    "                edge.save()\n",
    "\n",
    "indiv2indiv_same(indiv_ar_2, indiv_short, 1000)"
   ]
  },
  {
   "cell_type": "code",
   "execution_count": 11,
   "metadata": {},
   "outputs": [
    {
     "name": "stdout",
     "output_type": "stream",
     "text": [
      "['56380105' 'indiv_unique_address/56380105' '_ef6tPHC---' '00i6fl'\n",
      " 'RAMADAN MOHAMAD ZIAD' 'RAMADAN MOHAMAD'\n",
      " '85 NEWTON ST., , NORTHBOROUGH, MA'\n",
      " 'RAMADAN MOHAMAD 85 NEWTON ST., , NORTHBOROUGH, MA']\n"
     ]
    }
   ],
   "source": [
    "indiv_df.loc[:,'NamePlusAddr'] = [' '.join((str(a),str(b))) for a,b in zip(indiv_df['IndividualNameShort'],indiv_df['Addr'])]\n",
    "indiv_ar_2 = indiv_df.to_numpy()\n",
    "print(indiv_ar_2[0])"
   ]
  },
  {
   "cell_type": "code",
   "execution_count": 13,
   "metadata": {},
   "outputs": [],
   "source": [
    "indiv_ar_2 = indiv.to_numpy()"
   ]
  },
  {
   "cell_type": "code",
   "execution_count": 17,
   "metadata": {},
   "outputs": [
    {
     "name": "stdout",
     "output_type": "stream",
     "text": [
      "2092355\n"
     ]
    }
   ],
   "source": [
    "unique_keys, indices = np.unique(indiv_ar_2[:,7], return_index=True)\n",
    "indiv_unique = indiv_ar_2[np.sort(indices)]\n",
    "print(len(indiv_unique))"
   ]
  },
  {
   "cell_type": "code",
   "execution_count": 26,
   "metadata": {},
   "outputs": [
    {
     "data": {
      "text/plain": [
       "array(['56380105', 'indiv_unique_address/56380105', '_ef6tPHC---',\n",
       "       '00i6fl', 'RAMADAN MOHAMAD ZIAD', 'RAMADAN MOHAMAD',\n",
       "       '85 NEWTON ST., , NORTHBOROUGH, MA',\n",
       "       'RAMADAN MOHAMAD 85 NEWTON ST., , NORTHBOROUGH, MA'], dtype=object)"
      ]
     },
     "execution_count": 26,
     "metadata": {},
     "output_type": "execute_result"
    }
   ],
   "source": [
    "indiv_unique[0]"
   ]
  },
  {
   "cell_type": "code",
   "execution_count": 27,
   "metadata": {},
   "outputs": [],
   "source": [
    "indiv_u = np.delete(indiv_unique,(0,1,2),1)"
   ]
  },
  {
   "cell_type": "code",
   "execution_count": 29,
   "metadata": {},
   "outputs": [],
   "source": [
    "indiv_df_final = pd.DataFrame(indiv_u,columns = ['DataID','IndividualName','IndividualNameShort','Addr','NamePlusAddr'])\n",
    "\n",
    "# create json and write it to an existing empty json file\n",
    "result = indiv_df_final.to_json(orient=\"records\")\n",
    "parsed = json.loads(result)\n",
    "indiv_json = json.dumps(parsed, indent=4) \n",
    "\n",
    "with open('../indiv_name_addr.json', 'w') as outfile:\n",
    "    outfile.write(indiv_json)"
   ]
  },
  {
   "cell_type": "code",
   "execution_count": 18,
   "metadata": {},
   "outputs": [
    {
     "data": {
      "text/plain": [
       "2581604"
      ]
     },
     "execution_count": 18,
     "metadata": {},
     "output_type": "execute_result"
    }
   ],
   "source": [
    "len(indiv_ar)"
   ]
  },
  {
   "cell_type": "code",
   "execution_count": 22,
   "metadata": {},
   "outputs": [],
   "source": [
    "indiv_ar = indiv_ar_2"
   ]
  },
  {
   "cell_type": "code",
   "execution_count": 7,
   "metadata": {},
   "outputs": [],
   "source": [
    "# [3]: DataID; [5]: NameShort; [6]: BusAddr; [7]: ResAddr\n",
    "\n",
    "def c_1(ind,ind2):\n",
    "    if ind[5] == ind2[5]:\n",
    "        if ind[6]!= ', ,' and ((ind[6] == ind2[6]) or (ind[6] == ind2[7])):\n",
    "            return True\n",
    "        elif ind[7]!= ', ,' and ((ind[7] == ind2[7]) or (ind[7] == ind2[6])):\n",
    "            return True\n",
    "    return False"
   ]
  },
  {
   "cell_type": "code",
   "execution_count": 27,
   "metadata": {},
   "outputs": [],
   "source": [
    "c_2 = np.vectorize(c_1)"
   ]
  },
  {
   "cell_type": "code",
   "execution_count": 40,
   "metadata": {
    "colab": {
     "base_uri": "https://localhost:8080/"
    },
    "executionInfo": {
     "elapsed": 11541967,
     "status": "ok",
     "timestamp": 1656913378709,
     "user": {
      "displayName": "Yizhou Tan",
      "userId": "02431669335369619733"
     },
     "user_tz": 240
    },
    "id": "UWAhDf8y1Zk3",
    "outputId": "3446c392-24de-406f-9ed2-ce6f01486ac9"
   },
   "outputs": [
    {
     "name": "stdout",
     "output_type": "stream",
     "text": [
      "10\n",
      "10000 11000\n"
     ]
    },
    {
     "ename": "KeyboardInterrupt",
     "evalue": "",
     "output_type": "error",
     "traceback": [
      "\u001b[1;31m---------------------------------------------------------------------------\u001b[0m",
      "\u001b[1;31mKeyboardInterrupt\u001b[0m                         Traceback (most recent call last)",
      "\u001b[1;32m~\\AppData\\Local\\Temp\\ipykernel_11280\\1779118704.py\u001b[0m in \u001b[0;36m<module>\u001b[1;34m\u001b[0m\n\u001b[0;32m     16\u001b[0m                         \u001b[0medge\u001b[0m\u001b[1;33m.\u001b[0m\u001b[0msave\u001b[0m\u001b[1;33m(\u001b[0m\u001b[1;33m)\u001b[0m\u001b[1;33m\u001b[0m\u001b[1;33m\u001b[0m\u001b[0m\n\u001b[0;32m     17\u001b[0m \u001b[1;33m\u001b[0m\u001b[0m\n\u001b[1;32m---> 18\u001b[1;33m \u001b[0mindiv2indiv_same\u001b[0m\u001b[1;33m(\u001b[0m\u001b[0mindiv_ar\u001b[0m\u001b[1;33m,\u001b[0m\u001b[1;36m1000\u001b[0m\u001b[1;33m)\u001b[0m\u001b[1;33m\u001b[0m\u001b[1;33m\u001b[0m\u001b[0m\n\u001b[0m",
      "\u001b[1;32m~\\AppData\\Local\\Temp\\ipykernel_11280\\1779118704.py\u001b[0m in \u001b[0;36mindiv2indiv_same\u001b[1;34m(indiv_ar, batch_size)\u001b[0m\n\u001b[0;32m      8\u001b[0m         \u001b[1;32mfor\u001b[0m \u001b[0mj\u001b[0m \u001b[1;32min\u001b[0m \u001b[0mrange\u001b[0m\u001b[1;33m(\u001b[0m\u001b[1;36m0\u001b[0m\u001b[1;33m,\u001b[0m\u001b[0mbatch_ar\u001b[0m\u001b[1;33m.\u001b[0m\u001b[0mshape\u001b[0m\u001b[1;33m[\u001b[0m\u001b[1;36m0\u001b[0m\u001b[1;33m]\u001b[0m\u001b[1;33m)\u001b[0m\u001b[1;33m:\u001b[0m\u001b[1;33m\u001b[0m\u001b[1;33m\u001b[0m\u001b[0m\n\u001b[0;32m      9\u001b[0m             \u001b[1;32mfor\u001b[0m \u001b[0mk\u001b[0m \u001b[1;32min\u001b[0m \u001b[0mindiv_ar\u001b[0m\u001b[1;33m:\u001b[0m\u001b[1;33m\u001b[0m\u001b[1;33m\u001b[0m\u001b[0m\n\u001b[1;32m---> 10\u001b[1;33m                 \u001b[1;32mif\u001b[0m \u001b[0mc_1\u001b[0m\u001b[1;33m(\u001b[0m\u001b[0mk\u001b[0m\u001b[1;33m,\u001b[0m\u001b[0mbatch_ar\u001b[0m\u001b[1;33m[\u001b[0m\u001b[0mj\u001b[0m\u001b[1;33m]\u001b[0m\u001b[1;33m)\u001b[0m \u001b[1;32mand\u001b[0m \u001b[0mk\u001b[0m\u001b[1;33m[\u001b[0m\u001b[1;36m1\u001b[0m\u001b[1;33m]\u001b[0m\u001b[1;33m!=\u001b[0m\u001b[0mbatch_ar\u001b[0m\u001b[1;33m[\u001b[0m\u001b[0mj\u001b[0m\u001b[1;33m]\u001b[0m\u001b[1;33m[\u001b[0m\u001b[1;36m1\u001b[0m\u001b[1;33m]\u001b[0m\u001b[1;33m:\u001b[0m\u001b[1;33m\u001b[0m\u001b[1;33m\u001b[0m\u001b[0m\n\u001b[0m\u001b[0;32m     11\u001b[0m                     \u001b[1;32mtry\u001b[0m\u001b[1;33m:\u001b[0m\u001b[1;33m\u001b[0m\u001b[1;33m\u001b[0m\u001b[0m\n\u001b[0;32m     12\u001b[0m                         \u001b[0mplaceholder\u001b[0m \u001b[1;33m=\u001b[0m \u001b[0mcorp_db\u001b[0m\u001b[1;33m[\u001b[0m\u001b[1;34m\"indiv2indiv\"\u001b[0m\u001b[1;33m]\u001b[0m\u001b[1;33m.\u001b[0m\u001b[0mfetchFirstExample\u001b[0m\u001b[1;33m(\u001b[0m\u001b[1;33m{\u001b[0m\u001b[1;34m\"_to\"\u001b[0m\u001b[1;33m:\u001b[0m \u001b[0mk\u001b[0m\u001b[1;33m[\u001b[0m\u001b[1;36m1\u001b[0m\u001b[1;33m]\u001b[0m\u001b[1;33m,\u001b[0m \u001b[1;34m\"_from\"\u001b[0m\u001b[1;33m:\u001b[0m \u001b[0mindiv_ar\u001b[0m\u001b[1;33m[\u001b[0m\u001b[0mi\u001b[0m\u001b[1;33m*\u001b[0m\u001b[0mbatch_size\u001b[0m\u001b[1;33m+\u001b[0m\u001b[0mj\u001b[0m\u001b[1;33m]\u001b[0m\u001b[1;33m[\u001b[0m\u001b[1;36m1\u001b[0m\u001b[1;33m]\u001b[0m\u001b[1;33m}\u001b[0m\u001b[1;33m)\u001b[0m\u001b[1;33m[\u001b[0m\u001b[1;36m0\u001b[0m\u001b[1;33m]\u001b[0m\u001b[1;33m\u001b[0m\u001b[1;33m\u001b[0m\u001b[0m\n",
      "\u001b[1;31mKeyboardInterrupt\u001b[0m: "
     ]
    }
   ],
   "source": [
    "def indiv2indiv_same(indiv_ar, batch_size): \n",
    "    \n",
    "    for i in range(10,15):\n",
    "        print(i)\n",
    "        print(i*batch_size,(i+1)*batch_size)\n",
    "        batch_ar = indiv_ar[i*batch_size:(i+1)*batch_size][:]\n",
    "            \n",
    "        for j in range(0,batch_ar.shape[0]):\n",
    "            for k in indiv_ar:\n",
    "                if c_1(k,batch_ar[j]) and k[1]!=batch_ar[j][1]:\n",
    "                    try:\n",
    "                        placeholder = corp_db[\"indiv2indiv\"].fetchFirstExample({\"_to\": k[1], \"_from\": indiv_ar[i*batch_size+j][1]})[0]\n",
    "                    except:\n",
    "                        edge_attributes = {\"_from\": k[1], \"_to\": batch_ar[j][1], \"type\": 'indiv2indiv/same'}\n",
    "                        edge = corp_db[\"indiv2indiv\"].createDocument(edge_attributes)\n",
    "                        edge.save()\n",
    "\n",
    "indiv2indiv_same(indiv_ar,1000)"
   ]
  },
  {
   "cell_type": "code",
   "execution_count": null,
   "metadata": {},
   "outputs": [],
   "source": [
    "np.where(indiv_ar)"
   ]
  },
  {
   "cell_type": "code",
   "execution_count": 22,
   "metadata": {},
   "outputs": [],
   "source": [
    "batch_ar = indiv_ar[0:10]"
   ]
  },
  {
   "cell_type": "code",
   "execution_count": 25,
   "metadata": {
    "scrolled": true
   },
   "outputs": [
    {
     "name": "stdout",
     "output_type": "stream",
     "text": [
      "12936266 (0, 0)\n",
      "12936268 (0, 1)\n",
      "12936269 (0, 2)\n",
      "12936270 (0, 3)\n",
      "12936271 (0, 4)\n",
      "12936272 (0, 5)\n",
      "12936274 (0, 6)\n",
      "12936275 (0, 7)\n",
      "12936277 (0, 8)\n",
      "12936278 (0, 9)\n",
      "indiv_data_deduped/12936266 (1, 0)\n",
      "indiv_data_deduped/12936268 (1, 1)\n",
      "indiv_data_deduped/12936269 (1, 2)\n",
      "indiv_data_deduped/12936270 (1, 3)\n",
      "indiv_data_deduped/12936271 (1, 4)\n",
      "indiv_data_deduped/12936272 (1, 5)\n",
      "indiv_data_deduped/12936274 (1, 6)\n",
      "indiv_data_deduped/12936275 (1, 7)\n",
      "indiv_data_deduped/12936277 (1, 8)\n",
      "indiv_data_deduped/12936278 (1, 9)\n",
      "_edj3zGm--- (2, 0)\n",
      "_edj3zGm--_ (2, 1)\n",
      "_edj3zGm--A (2, 2)\n",
      "_edj3zGm--B (2, 3)\n",
      "_edj3zGm--C (2, 4)\n",
      "_edj3zGm--D (2, 5)\n",
      "_edj3zGm--E (2, 6)\n",
      "_edj3zGm--F (2, 7)\n",
      "_edj3zGm--G (2, 8)\n",
      "_edj3zGm--H (2, 9)\n",
      "00jjnx (3, 0)\n",
      "0072rt (3, 1)\n",
      "005uzp (3, 2)\n",
      "006kri (3, 3)\n",
      "004oib (3, 4)\n",
      "00hx5i (3, 5)\n",
      "001nmc (3, 6)\n",
      "0083sc (3, 7)\n",
      "002y9o (3, 8)\n",
      "00hx5i (3, 9)\n",
      "SOUTHWORTH BILL (4, 0)\n",
      "DOLE ROBERT F (4, 1)\n",
      "KWONG SUN HON (4, 2)\n",
      "TAYLOR JOSEPH (4, 3)\n",
      "HUNT ROGER B (4, 4)\n",
      "GRIECO WILLIAM (4, 5)\n",
      "BORGHESANI PHILIP E (4, 6)\n",
      "GIBLIN THOMAS J (4, 7)\n",
      "GOLDBERG S DAVID (4, 8)\n",
      "SMITH DOUGLAS J (4, 9)\n",
      "SOUTHWORTH BILL (5, 0)\n",
      "DOLE ROBERT (5, 1)\n",
      "KWONG SUN (5, 2)\n",
      "TAYLOR JOSEPH (5, 3)\n",
      "HUNT ROGER (5, 4)\n",
      "GRIECO WILLIAM (5, 5)\n",
      "BORGHESANI PHILIP (5, 6)\n",
      "GIBLIN THOMAS (5, 7)\n",
      "GOLDBERG S (5, 8)\n",
      "SMITH DOUGLAS (5, 9)\n",
      ", , (6, 0)\n",
      "50 LINDENWOOD RD.,, STONEHAM, MA (6, 1)\n",
      "197 HUMPHREY ST.,, MARBLEHEAD, MA (6, 2)\n",
      "48 QUARRY ST, QUINCY, MA 02169 (6, 3)\n",
      "969 SOUTH ST.,, NEEDHAM, MA (6, 4)\n",
      ", , (6, 5)\n",
      "40 JACKSON RD, ACTON, MA 01720 (6, 6)\n",
      "8 BOWDOIN RD.,, WELLESLEY, MA (6, 7)\n",
      "53 GREENBRIAR RD.,, BROCKTON, MA (6, 8)\n",
      ", , (6, 9)\n",
      "112 N PILATUS LN, NAMPA, ID 83687 (7, 0)\n",
      "50 LINDENWOOD RD.,, STONEHAM, MA (7, 1)\n",
      "197 HUMPHREY ST.,, MARBLEHEAD, MA (7, 2)\n",
      ", , (7, 3)\n",
      "969 SOUTH ST.,, NEEDHAM, MA (7, 4)\n",
      "200 LAKE ST, PEABODY, MA 01960 (7, 5)\n",
      "40 JACKSON RD, ACTON, MA 01720 (7, 6)\n",
      "8 BOWDOIN RD.,, WELLESLEY, MA (7, 7)\n",
      "53 GREENBRIAR RD.,, BROCKTON, MA (7, 8)\n",
      "200 LAKE ST, PEABODY, MA 01960 (7, 9)\n"
     ]
    }
   ],
   "source": [
    "it = np.nditer(batch_ar.T,flags=[\"refs_ok\",\"multi_index\"])\n",
    "for i in it.multi_index:\n",
    "    print(i,it.multi_index)"
   ]
  },
  {
   "cell_type": "code",
   "execution_count": null,
   "metadata": {},
   "outputs": [],
   "source": [
    "def not_in_edges(key1, key2):\n",
    "    node1 = corp_db[\"indiv_data_deduped\"].fetchDocument(key1)\n",
    "    edges = corp_db[]"
   ]
  },
  {
   "cell_type": "code",
   "execution_count": 21,
   "metadata": {
    "colab": {
     "base_uri": "https://localhost:8080/"
    },
    "executionInfo": {
     "elapsed": 11,
     "status": "ok",
     "timestamp": 1656655084595,
     "user": {
      "displayName": "Yizhou Tan",
      "userId": "02431669335369619733"
     },
     "user_tz": 240
    },
    "id": "c0VyVncPVhy0",
    "outputId": "9151f1cd-0792-4353-99f7-657ab02d1c27",
    "scrolled": true
   },
   "outputs": [
    {
     "name": "stdout",
     "output_type": "stream",
     "text": [
      "2613.278\n"
     ]
    }
   ],
   "source": [
    "print(indiv_ar.shape[0]/1000)"
   ]
  },
  {
   "cell_type": "code",
   "execution_count": 36,
   "metadata": {},
   "outputs": [
    {
     "data": {
      "text/plain": [
       "'12936271'"
      ]
     },
     "execution_count": 36,
     "metadata": {},
     "output_type": "execute_result"
    }
   ],
   "source": [
    "indiv_ar[4][1][19:]"
   ]
  },
  {
   "cell_type": "code",
   "execution_count": 34,
   "metadata": {},
   "outputs": [
    {
     "name": "stdout",
     "output_type": "stream",
     "text": [
      "4\n",
      "278807\n",
      "616535\n",
      "822465\n",
      "1050804\n",
      "1151842\n"
     ]
    }
   ],
   "source": [
    "for i in range(indiv_ar.shape[0]):\n",
    "    if c_1(indiv_ar[i],indiv_ar[4]):\n",
    "        print(i)"
   ]
  },
  {
   "cell_type": "code",
   "execution_count": 76,
   "metadata": {},
   "outputs": [
    {
     "data": {
      "text/plain": [
       "array(['12936266', 'indiv_data_deduped/12936266', '_edj3zGm---', '00jjnx',\n",
       "       'SOUTHWORTH BILL', 'SOUTHWORTH BILL', ', ,',\n",
       "       '112 N PILATUS LN, NAMPA, ID 83687'], dtype=object)"
      ]
     },
     "execution_count": 76,
     "metadata": {},
     "output_type": "execute_result"
    }
   ],
   "source": [
    "indiv_ar[0]"
   ]
  },
  {
   "cell_type": "code",
   "execution_count": 14,
   "metadata": {},
   "outputs": [
    {
     "ename": "AttributeError",
     "evalue": "'numpy.ndarray' object has no attribute 'find'",
     "output_type": "error",
     "traceback": [
      "\u001b[1;31m---------------------------------------------------------------------------\u001b[0m",
      "\u001b[1;31mAttributeError\u001b[0m                            Traceback (most recent call last)",
      "\u001b[1;32m~\\AppData\\Local\\Temp\\ipykernel_5288\\2851628220.py\u001b[0m in \u001b[0;36m<module>\u001b[1;34m\u001b[0m\n\u001b[1;32m----> 1\u001b[1;33m \u001b[0mnp\u001b[0m\u001b[1;33m.\u001b[0m\u001b[0mwhere\u001b[0m\u001b[1;33m(\u001b[0m\u001b[0mindiv_ar\u001b[0m\u001b[1;33m[\u001b[0m\u001b[1;33m:\u001b[0m\u001b[1;33m,\u001b[0m\u001b[1;36m6\u001b[0m\u001b[1;33m]\u001b[0m\u001b[1;33m.\u001b[0m\u001b[0mfind\u001b[0m\u001b[1;33m(\u001b[0m\u001b[1;34m'AME, SAME'\u001b[0m\u001b[1;33m)\u001b[0m\u001b[1;33m)\u001b[0m\u001b[1;33m\u001b[0m\u001b[1;33m\u001b[0m\u001b[0m\n\u001b[0m",
      "\u001b[1;31mAttributeError\u001b[0m: 'numpy.ndarray' object has no attribute 'find'"
     ]
    }
   ],
   "source": [
    "(', ,' in indiv_ar[:,6])"
   ]
  },
  {
   "cell_type": "code",
   "execution_count": 12,
   "metadata": {},
   "outputs": [
    {
     "data": {
      "text/plain": [
       "1"
      ]
     },
     "execution_count": 12,
     "metadata": {},
     "output_type": "execute_result"
    }
   ],
   "source": [
    "indiv_ar[282,6].find('AME, SAME')"
   ]
  },
  {
   "cell_type": "code",
   "execution_count": 51,
   "metadata": {},
   "outputs": [
    {
     "name": "stdout",
     "output_type": "stream",
     "text": [
      "2613278\n"
     ]
    }
   ],
   "source": [
    "print(len(indiv_ar))"
   ]
  },
  {
   "cell_type": "code",
   "execution_count": 99,
   "metadata": {},
   "outputs": [
    {
     "name": "stdout",
     "output_type": "stream",
     "text": [
      "(array([    282,     288,     292, ..., 2612488, 2612503, 2612784],\n",
      "      dtype=int64),)\n",
      "19609\n"
     ]
    }
   ],
   "source": [
    "indices = np.where((indiv_ar[:,6]!=indiv_ar[:,7]) & (indiv_ar[:,6]!=', ,') & (indiv_ar[:,7]!=', ,'))\n",
    "print(indices)\n",
    "print(len(indices[0]))"
   ]
  },
  {
   "cell_type": "code",
   "execution_count": 7,
   "metadata": {},
   "outputs": [],
   "source": [
    "# extracting the keys of the indiv_data_processed collection\n",
    "key_aql = \"FOR x IN indiv_data_processed RETURN x._key\"\n",
    "key_query_result = corp_db.AQLQuery(key_aql,rawResults=True, batchSize = 1000)\n",
    "indiv_keys = []\n",
    "\n",
    "for key in key_query_result:\n",
    "    indiv_keys.append(key)"
   ]
  },
  {
   "cell_type": "code",
   "execution_count": 8,
   "metadata": {
    "scrolled": false
   },
   "outputs": [
    {
     "name": "stdout",
     "output_type": "stream",
     "text": [
      "BURKE CHARLES\n"
     ]
    }
   ],
   "source": [
    "indiv_1 = corp_db[\"indiv_data_processed\"].fetchDocument(indiv_keys[0])\n",
    "name_dict = {'IndividualName':'BURKE CHARLES'}\n",
    "indivs = corp_db[\"indiv_data_processed\"].fetchByExample(name_dict,batchSize = 1000)"
   ]
  }
 ],
 "metadata": {
  "accelerator": "GPU",
  "colab": {
   "collapsed_sections": [],
   "name": "landowner_network.ipynb",
   "provenance": []
  },
  "gpuClass": "standard",
  "kernelspec": {
   "display_name": "NetworkCode",
   "language": "python",
   "name": "networkcode"
  },
  "language_info": {
   "codemirror_mode": {
    "name": "ipython",
    "version": 3
   },
   "file_extension": ".py",
   "mimetype": "text/x-python",
   "name": "python",
   "nbconvert_exporter": "python",
   "pygments_lexer": "ipython3",
   "version": "3.7.9"
  },
  "vscode": {
   "interpreter": {
    "hash": "137c83b3478ffedff7431332c4108c29fc5733a37d136ef8c89fd7a45cc0790b"
   }
  }
 },
 "nbformat": 4,
 "nbformat_minor": 1
}
