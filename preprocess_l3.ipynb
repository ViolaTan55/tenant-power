{
 "cells": [
  {
   "cell_type": "code",
   "execution_count": 2,
   "metadata": {
    "scrolled": false
   },
   "outputs": [],
   "source": [
    "import pandas as pd\n",
    "import fiona\n",
    "import geopandas as gpd\n",
    "from sqlalchemy import create_engine\n",
    "import numpy as np\n",
    "from dotenv import load_dotenv\n",
    "import os\n",
    "import pyArango\n",
    "import usaddress\n",
    "from usaddress import tag\n",
    "from scourgify import normalize_address_record\n",
    "import re\n",
    "import json"
   ]
  },
  {
   "cell_type": "code",
   "execution_count": 4,
   "metadata": {},
   "outputs": [],
   "source": [
    "load_dotenv()\n",
    "PG_CONNECT = os.getenv(\"PG_CONNECT\")"
   ]
  },
  {
   "cell_type": "code",
   "execution_count": 7,
   "metadata": {
    "scrolled": true
   },
   "outputs": [
    {
     "name": "stdout",
     "output_type": "stream",
     "text": [
      "            PROP_ID            LOC_ID  BLDG_VAL  LAND_VAL  OTHER_VAL  \\\n",
      "0            D9 4 3  F_335507_2850670    111000     98900          0   \n",
      "1            D9 5 3  F_335433_2850987    140200     90500       6600   \n",
      "2           D9 6 14  F_335682_2851486    344900    184100       9200   \n",
      "3           E10 1 5  F_337304_2851580    375800    200900      18500   \n",
      "4          E10 2 23  F_336769_2852989         0     29500          0   \n",
      "...             ...               ...       ...       ...        ...   \n",
      "2536875  0104966006  F_781897_2959209    551200         0          0   \n",
      "2536876  0104972008  F_781998_2959152    536400         0          0   \n",
      "2536877  1904214002  F_756936_2929234    437900         0          0   \n",
      "2536878  1200335006  F_769944_2942985    436500         0          0   \n",
      "2536879  0903674006  F_766578_2944741    383700         0          0   \n",
      "\n",
      "         TOTAL_VAL    FY  LOT_SIZE   LS_DATE  LS_PRICE  ...          STYLE  \\\n",
      "0           209900  2021      0.39  19930802  106000.0  ...          RANCH   \n",
      "1           237300  2021      0.28  20120727  111750.0  ...          RANCH   \n",
      "2           538200  2021      0.75  19931105  275000.0  ...       SHOP CTR   \n",
      "3           595200  2021      0.91  20010713       1.0  ...     OFFICE-PRO   \n",
      "4            29500  2021      2.30  20120817  100199.0  ...           None   \n",
      "...            ...   ...       ...       ...       ...  ...            ...   \n",
      "2536875     551200  2020      0.00  20180330     100.0  ...       Semi-Det   \n",
      "2536876     536400  2020      0.00  20190404  675000.0  ...       Low Rise   \n",
      "2536877     437900  2020      0.00  20190322  590000.0  ...  Free Standing   \n",
      "2536878     436500  2020      0.00  20180413  465000.0  ...     Town House   \n",
      "2536879     383700  2020      0.00  20190528  540000.0  ...  Free Standing   \n",
      "\n",
      "        NUM_ROOMS LOT_UNITS TOWN_ID       MA_PROP_ID FULL_STR_STD STORIES_NUM  \\\n",
      "0             6.0         A       5      M005_D9 4 3         None        None   \n",
      "1             5.0         A       5      M005_D9 5 3         None        None   \n",
      "2             NaN         A       5     M005_D9 6 14         None        None   \n",
      "3             NaN         A       5     M005_E10 1 5         None        None   \n",
      "4             NaN         A       5    M005_E10 2 23         None        None   \n",
      "...           ...       ...     ...              ...          ...         ...   \n",
      "2536875       4.0         A      35  M035_0104966006         None        None   \n",
      "2536876       4.0         A      35  M035_0104972008         None        None   \n",
      "2536877       5.0         A      35  M035_1904214002         None        None   \n",
      "2536878       5.0         A      35  M035_1200335006         None        None   \n",
      "2536879       4.0         A      35  M035_0903674006         None        None   \n",
      "\n",
      "        STORIES  CAMA_ID geometry  \n",
      "0             1     2009     None  \n",
      "1             1     2026     None  \n",
      "2             1     2037     None  \n",
      "3             1     2062     None  \n",
      "4          None     2079     None  \n",
      "...         ...      ...      ...  \n",
      "2536875       1  1185873     None  \n",
      "2536876       1  1184688     None  \n",
      "2536877       1  1185899     None  \n",
      "2536878       1  1185907     None  \n",
      "2536879       1  1185923     None  \n",
      "\n",
      "[2536880 rows x 41 columns]\n"
     ]
    }
   ],
   "source": [
    "#process geodatabase\n",
    "l3_assess_geo = gpd.read_file(\"../MassGIS_L3_Parcels_gdb/MassGIS_L3_Parcels.gdb\", driver='FileGDB', layer=2) #L3_ASSESS\n",
    "l3_assess = pd.DataFrame(l3_assess_geo)\n",
    "print(l3_assess)"
   ]
  },
  {
   "cell_type": "code",
   "execution_count": 9,
   "metadata": {},
   "outputs": [],
   "source": [
    "# Parcel data from MassGIS Data\n",
    "# https://www.mass.gov/forms/massgis-request-statewide-parcel-data\n",
    "\n",
    "# Residential Land Use Codes from MA Dept of Revenue\n",
    "# https://www.mass.gov/files/documents/2016/08/wr/classificationcodebook.pdf\n",
    "# Codes are 101*-109*, 031*, and 013*\n",
    "# Often include suffixes (letters, zeroes or no character), thus regex\n",
    "\n",
    "USE_CODES = '^1[0-1][1-9]*?|^013*?|^031*?'"
   ]
  },
  {
   "cell_type": "code",
   "execution_count": 10,
   "metadata": {},
   "outputs": [],
   "source": [
    "l3_assess = l3_assess[l3_assess['USE_CODE'].str.contains(USE_CODES, regex=True)]"
   ]
  },
  {
   "cell_type": "code",
   "execution_count": 17,
   "metadata": {},
   "outputs": [],
   "source": [
    "# concatenate property address\n",
    "l3_assess.loc[:,'PropAddr'] = [', '.join((str(a),str(b))) for a,b in zip(l3_assess['SITE_ADDR'],l3_assess['CITY'])]\n",
    "# append zip to address with no comma\n",
    "l3_assess.loc[:,'PropAddr'] = [' '.join((str(a),str(b))) for a,b in zip(l3_assess['PropAddr'],l3_assess['ZIP'])]\n",
    "l3_assess.loc[:,'PropAddr'] = l3_assess.PropAddr.str.strip()\n",
    "\n",
    "# concatenate owner address\n",
    "l3_assess.loc[:,'OwnAddr'] = [', '.join((str(a),str(b),str(c))) for a,b,c in zip(l3_assess['OWN_ADDR'],l3_assess['OWN_CITY'],l3_assess['OWN_STATE'])]\n",
    "# append zip to address with no comma\n",
    "l3_assess.loc[:,'OwnAddr'] = [' '.join((str(a),str(b))) for a,b in zip(l3_assess['OwnAddr'],l3_assess['OWN_ZIP'])]\n",
    "l3_assess.loc[:,'OwnAddr'] = l3_assess.OwnAddr.str.strip()"
   ]
  },
  {
   "cell_type": "code",
   "execution_count": 18,
   "metadata": {},
   "outputs": [],
   "source": [
    "# two normalization methods to deal with failures of the normalize_address_record() method\n",
    "\n",
    "def normalize_dict(x):\n",
    "    try:\n",
    "        x_1=normalize_address_record(x)\n",
    "    except:\n",
    "        y=corp_df_sliced.index[corp_df_sliced['EntityAddr'] == x]\n",
    "        addr1=corp_df.loc[y,'Addr1'].to_string()\n",
    "        addr2=corp_df.loc[y,'Addr2'].to_string()\n",
    "        city=corp_df.loc[y,'City'].to_string()\n",
    "        state=corp_df.loc[y,'State'].to_string()\n",
    "        pc=corp_df.loc[y,'PostalCode'].to_string()\n",
    "        x_1 = {'address_line_1': addr1, 'address_line_2': addr2, 'city': city, 'state': state, 'postal_code': pc}\n",
    "        pass\n",
    "    return x_1\n",
    "\n",
    "def normalize_concat(x):\n",
    "    if(x==', , ,'):\n",
    "        x_1 = None\n",
    "    else:\n",
    "        try:\n",
    "            y = normalize_address_record(x)\n",
    "            try:\n",
    "                y_0 = ', '.join([y['address_line_1'],y['address_line_2'],y['city'],y['state']])\n",
    "            except:\n",
    "                y_0 = ', '.join([y['address_line_1'],y['city'],y['state']])\n",
    "            y_1 = ' '.join((y_0,y['postal_code']))\n",
    "            x_1 = y_1.strip()\n",
    "        except:\n",
    "            x_1 = x\n",
    "            pass\n",
    "    return x_1"
   ]
  },
  {
   "cell_type": "code",
   "execution_count": 19,
   "metadata": {},
   "outputs": [],
   "source": [
    "#normalize addresses\n",
    "l3_assess.loc[:,'PropAddr']=l3_assess.loc[:,'PropAddr'].apply(lambda x:normalize_concat(x))\n",
    "l3_assess.loc[:,'OwnAddr']=l3_assess.loc[:,'OwnAddr'].apply(lambda x:normalize_concat(x))"
   ]
  },
  {
   "cell_type": "code",
   "execution_count": 23,
   "metadata": {},
   "outputs": [],
   "source": [
    "l3_assess.loc[:,'LS_DATE'] = pd.to_datetime(l3_assess['LS_DATE'], format='%Y%m%d', errors='coerce')\n",
    "l3_assess = l3_assess[['PROP_ID', 'LOC_ID', 'PropAddr', 'UNITS', 'OWNER1', 'OwnAddr', 'TOTAL_VAL', 'FY', 'LS_DATE', 'LS_PRICE']]"
   ]
  },
  {
   "cell_type": "code",
   "execution_count": 27,
   "metadata": {},
   "outputs": [],
   "source": [
    "# create json and write it to an existing empty json file\n",
    "result = l3_assess.to_json(orient=\"records\")\n",
    "parsed = json.loads(result)\n",
    "l3_json = json.dumps(parsed, indent=4) \n",
    "\n",
    "with open('../l3.json', 'w') as outfile:\n",
    "    outfile.write(l3_json)"
   ]
  }
 ],
 "metadata": {
  "kernelspec": {
   "display_name": "NetworkCode",
   "language": "python",
   "name": "networkcode"
  },
  "language_info": {
   "codemirror_mode": {
    "name": "ipython",
    "version": 3
   },
   "file_extension": ".py",
   "mimetype": "text/x-python",
   "name": "python",
   "nbconvert_exporter": "python",
   "pygments_lexer": "ipython3",
   "version": "3.7.9"
  },
  "vscode": {
   "interpreter": {
    "hash": "137c83b3478ffedff7431332c4108c29fc5733a37d136ef8c89fd7a45cc0790b"
   }
  }
 },
 "nbformat": 4,
 "nbformat_minor": 4
}
