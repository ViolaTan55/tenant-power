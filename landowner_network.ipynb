{
 "cells": [
  {
   "cell_type": "code",
   "execution_count": 2,
   "metadata": {},
   "outputs": [],
   "source": [
    "import pandas as pd\n",
    "from sqlalchemy import create_engine\n",
    "import numpy as np\n",
    "import dedupe\n",
    "from dotenv import load_dotenv\n",
    "import os\n",
    "import pyArango"
   ]
  },
  {
   "cell_type": "code",
   "execution_count": 3,
   "metadata": {},
   "outputs": [],
   "source": [
    "from pyArango.connection import *\n",
    "conn = Connection(username=\"root\", password=\"0505\")"
   ]
  },
  {
   "cell_type": "code",
   "execution_count": 4,
   "metadata": {},
   "outputs": [],
   "source": [
    "load_dotenv()\n",
    "PG_CONNECT = os.getenv(\"PG_CONNECT\")"
   ]
  },
  {
   "cell_type": "code",
   "execution_count": 5,
   "metadata": {},
   "outputs": [],
   "source": [
    "# pre-dedupe arangoDB stuff\n",
    "\n",
    "# create arangoDB database, or open it if it already exists\n",
    "try:\n",
    "    corp_db = conn.createDatabase(name=\"corp_data\")\n",
    "    # from command line:\n",
    "    # arangoimport --file '''path to CorpData.csv''' --collection corp_data --create-collection true --type csv --server.database corp_data\n",
    "    # arangoimport --file '''path to CorpIndividualExport.csv''' --collection corp_individual --create-collection true --type csv --server.database corp_data\n",
    "\n",
    "except:\n",
    "    corp_db = conn[\"corp_data\"]"
   ]
  },
  {
   "cell_type": "code",
   "execution_count": null,
   "metadata": {},
   "outputs": [],
   "source": [
    "# corp_db[\"corp_data\"]: arangoDB collection\n",
    "# corp_db[\"corp_data\"][17777999]: arangoDB document (one piece of data, or one corporation)"
   ]
  },
  {
   "cell_type": "code",
   "execution_count": null,
   "metadata": {},
   "outputs": [],
   "source": [
    "# *****EXPERIMENTAL*****\n",
    "# extracting the keys\n",
    "key_aql = \"FOR x IN corp_data RETURN x._key\"\n",
    "key_query_result = corp_db.AQLQuery(key_aql,rawResults=True, batchSize = 1400000)\n",
    "# issue with batch size\n",
    "col_key = np.zeros((len(key_query_result)))\n",
    "ind = 0\n",
    "\n",
    "for key in key_query_result:\n",
    "    col_key[ind] = key\n",
    "    ind += 1\n",
    "\n",
    "# converting this to str\n",
    "col_key = (col_key.astype(int)).astype(str)"
   ]
  },
  {
   "cell_type": "code",
   "execution_count": null,
   "metadata": {},
   "outputs": [],
   "source": [
    "# *****EXPERIMENTAL*****\n",
    "entity_name_aql = \"FOR x IN corp_data RETURN x.EntityName\"\n",
    "query_result = corp_db.AQLQuery(key_aql,rawResults=True, batchSize = 1000)\n",
    "col_key = np.zeros((len(key_query_result)))\n",
    "ind = 0\n",
    "\n",
    "for key in key_query_result:\n",
    "    col_key[ind] = key\n",
    "    ind += 1"
   ]
  },
  {
   "cell_type": "code",
   "execution_count": 6,
   "metadata": {},
   "outputs": [],
   "source": [
    "# extracting the values of the corp_data collection\n",
    "val_aql = \"FOR x IN corp_data RETURN x\" # here, corp_data is the name of the collection, not the database\n",
    "value_query_result = corp_db.AQLQuery(val_aql,rawResults=True, batchSize = 1000)\n",
    "col_value = {}\n",
    "ind_val = 0\n",
    "\n",
    "for value in value_query_result:\n",
    "    col_value[ind_val] = value\n",
    "    ind_val += 1"
   ]
  },
  {
   "cell_type": "code",
   "execution_count": 7,
   "metadata": {},
   "outputs": [
    {
     "name": "stdout",
     "output_type": "stream",
     "text": [
      "{'_key': '17778001', '_id': 'corp_data/17778001', '_rev': '_eU6dnzS--A', 'DataID': '00n9yj', 'FEIN': '001151215', 'TempFEIN': '', 'EntityName': 'GREENLINK FINANCIAL, LLC', 'EntityTypeDescriptor': 'Foreign Limited Liability Company (LLC)', 'Addr1': '3 MACARTHUR PLACE', 'Addr2': 'SUITE #1000', 'City': 'SANTA ANA', 'State': 'CA', 'PostalCode': '92707', 'CountryCode': 'USA', 'AgentName': 'COGENCY GLOBAL INC.', 'AgentAddr1': '45 SCHOOL STREET', 'AgentAddr2': 'STE 202', 'AgentCity': 'BOSTON', 'AgentState': 'MA', 'AgentPostalCode': '02108', 'DoingBusinessAs': '', 'ForeignName': '', 'JurisdictionState': 'NV', 'JurisdictionCountry': 'USA', 'JurisdictionDate': '02/27/2014', 'DateOfOrganization': '11/03/2014', 'ActiveFlag': 'N', 'InactiveDate': '2020-01-17 00:00:00', 'InactiveType': 'W', 'RevivalDate': '', 'LastDateCertain': '', 'FiscalMonth': '  ', 'FiscalDay': '  ', 'MergerAllowedFlag': '', 'AnnualRptReqFlag': 'Y', 'CorpPublicFlag': '', 'ProfitFlag': 'N', 'ConsentFlag': 'N', 'PartnershipFlag': 'N', 'ManufacturerFlag': 'N', 'ResidentAgentFlag': 'N', 'OldFEIN': '', 'OldFiscalMonth': '', 'OLDFiscalDay': ''}\n"
     ]
    }
   ],
   "source": [
    "print(col_value[2])"
   ]
  },
  {
   "cell_type": "code",
   "execution_count": 8,
   "metadata": {},
   "outputs": [],
   "source": [
    "# create dataframe from dictionary of dictionaries\n",
    "corp_df = pd.DataFrame.from_dict(data = col_value, orient = 'index')"
   ]
  },
  {
   "cell_type": "code",
   "execution_count": 16,
   "metadata": {
    "collapsed": true
   },
   "outputs": [
    {
     "name": "stdout",
     "output_type": "stream",
     "text": [
      "             _key                 _id         _rev  DataID       FEIN  \\\n",
      "0        17777999  corp_data/17777999  _eU6dnzS---  00wepr  001519497   \n",
      "1        17778000  corp_data/17778000  _eU6dnzS--_  00v4bw  001470249   \n",
      "2        17778001  corp_data/17778001  _eU6dnzS--A  00n9yj  001151215   \n",
      "3        17778002  corp_data/17778002  _eU6dnzS--B  00l0iw  001079650   \n",
      "4        17778003  corp_data/17778003  _eU6dnzS--C  000002  001052715   \n",
      "...           ...                 ...          ...     ...        ...   \n",
      "1369463  19147517  corp_data/19147517  _eU6dtH6--X  00vrf1  001494237   \n",
      "1369464  19147518  corp_data/19147518  _eU6dtH6--Y  00slfo  001374222   \n",
      "1369465  19147519  corp_data/19147519  _eU6dtH6--Z  00tltb  001411442   \n",
      "1369466  19147520  corp_data/19147520  _eU6dtH6--a  00kdn6  043125411   \n",
      "1369467  19147521  corp_data/19147521  _eU6dtH6--b  00wkuw  001525489   \n",
      "\n",
      "        TempFEIN                         EntityName  \\\n",
      "0                                  MILLER PLACE LLC   \n",
      "1                                A & V BUILDERS LLC   \n",
      "2                          GREENLINK FINANCIAL, LLC   \n",
      "3                                          DTN, LLC   \n",
      "4                     JOSH SHAPIRO SPORTS CAMPS LLC   \n",
      "...          ...                                ...   \n",
      "1369463                                  NANYDA LLC   \n",
      "1369464                           LITTLE PECAN, LLC   \n",
      "1369465                              WP MOBILE INC.   \n",
      "1369466           PATTERSON CLEANING SERVICES, INC.   \n",
      "1369467                                  GOBLIT LLC   \n",
      "\n",
      "                             EntityTypeDescriptor                       Addr1  \\\n",
      "0        Domestic Limited Liability Company (LLC)  189 WELLS AVENUE SUITE 302   \n",
      "1        Domestic Limited Liability Company (LLC)           5 EXCHANGE STREET   \n",
      "2         Foreign Limited Liability Company (LLC)           3 MACARTHUR PLACE   \n",
      "3         Foreign Limited Liability Company (LLC)            11400 RUPP DRIVE   \n",
      "4        Domestic Limited Liability Company (LLC)               73 OXFORD ST.   \n",
      "...                                           ...                         ...   \n",
      "1369463  Domestic Limited Liability Company (LLC)                104A HIGH ST   \n",
      "1369464  Domestic Limited Liability Company (LLC)             101 PARKER ROAD   \n",
      "1369465               Domestic Profit Corporation   67 ELM HILL AVENUE APT. 7   \n",
      "1369466               Domestic Profit Corporation            246 MAPLE STREET   \n",
      "1369467  Domestic Limited Liability Company (LLC)         140 ATWATER TERRACE   \n",
      "\n",
      "               Addr2  ... AnnualRptReqFlag CorpPublicFlag ProfitFlag  \\\n",
      "0                     ...                Y                         N   \n",
      "1            SUITE 4  ...                Y                         N   \n",
      "2        SUITE #1000  ...                Y                         N   \n",
      "3                     ...                Y              N          N   \n",
      "4                     ...                Y                         Y   \n",
      "...              ...  ...              ...            ...        ...   \n",
      "1369463               ...                Y                         N   \n",
      "1369464               ...                                              \n",
      "1369465               ...                Y                         N   \n",
      "1369466               ...                Y                         N   \n",
      "1369467               ...                Y                         N   \n",
      "\n",
      "        ConsentFlag PartnershipFlag ManufacturerFlag ResidentAgentFlag  \\\n",
      "0                 N               N                N                 N   \n",
      "1                 N               N                N                 N   \n",
      "2                 N               N                N                 N   \n",
      "3                 N               N                N                 N   \n",
      "4                 N               N                N                 Y   \n",
      "...             ...             ...              ...               ...   \n",
      "1369463           N               N                N                 N   \n",
      "1369464                                                                  \n",
      "1369465           N               N                N                 N   \n",
      "1369466           N               N                N                 N   \n",
      "1369467           N               N                N                 N   \n",
      "\n",
      "           OldFEIN OldFiscalMonth OLDFiscalDay  \n",
      "0                                               \n",
      "1                                               \n",
      "2                                               \n",
      "3                                               \n",
      "4                                               \n",
      "...            ...            ...          ...  \n",
      "1369463                                         \n",
      "1369464                                         \n",
      "1369465                        12           31  \n",
      "1369466  000364534             00           00  \n",
      "1369467                                         \n",
      "\n",
      "[1369468 rows x 44 columns]\n"
     ]
    }
   ],
   "source": [
    "print(corp_df)"
   ]
  },
  {
   "cell_type": "code",
   "execution_count": 10,
   "metadata": {
    "collapsed": true
   },
   "outputs": [
    {
     "name": "stdout",
     "output_type": "stream",
     "text": [
      "             _key                 _id                         EntityName  \\\n",
      "0        17777999  corp_data/17777999                   MILLER PLACE LLC   \n",
      "1        17778000  corp_data/17778000                 A & V BUILDERS LLC   \n",
      "2        17778001  corp_data/17778001           GREENLINK FINANCIAL, LLC   \n",
      "3        17778002  corp_data/17778002                           DTN, LLC   \n",
      "4        17778003  corp_data/17778003      JOSH SHAPIRO SPORTS CAMPS LLC   \n",
      "...           ...                 ...                                ...   \n",
      "1369463  19147517  corp_data/19147517                         NANYDA LLC   \n",
      "1369464  19147518  corp_data/19147518                  LITTLE PECAN, LLC   \n",
      "1369465  19147519  corp_data/19147519                     WP MOBILE INC.   \n",
      "1369466  19147520  corp_data/19147520  PATTERSON CLEANING SERVICES, INC.   \n",
      "1369467  19147521  corp_data/19147521                         GOBLIT LLC   \n",
      "\n",
      "                                                EntityAddr  \\\n",
      "0        189 WELLS AVENUE SUITE 302, , NEWTON CENTRE, M...   \n",
      "1            5 EXCHANGE STREET, SUITE 4, MILFORD, MA 01757   \n",
      "2        3 MACARTHUR PLACE, SUITE #1000, SANTA ANA, CA ...   \n",
      "3                 11400 RUPP DRIVE, , BURNSVILLE, MN 55337   \n",
      "4                    73 OXFORD ST., , WINCHESTER, MA 01890   \n",
      "...                                                    ...   \n",
      "1369463               104A HIGH ST, , PLAINVILLE, MA 02762   \n",
      "1369464             101 PARKER ROAD, , WELLESLEY, MA 02482   \n",
      "1369465  67 ELM HILL AVENUE APT. 7, , JAMAICA PLAIN, MA...   \n",
      "1369466          246 MAPLE STREET, , MARLBOROUGH, MA 01752   \n",
      "1369467       140 ATWATER TERRACE, , SPRINGFIELD, MA 01107   \n",
      "\n",
      "                                AgentName  \\\n",
      "0                             BARRY S FOX   \n",
      "1                           MARCELO ALVES   \n",
      "2                     COGENCY GLOBAL INC.   \n",
      "3             CORPORATION SERVICE COMPANY   \n",
      "4                          JOSHUA SHAPIRO   \n",
      "...                                   ...   \n",
      "1369463                      GARY R ALGER   \n",
      "1369464                            YI LIU   \n",
      "1369465                     WILLIS PUJOLS   \n",
      "1369466                   SCOTT PATTERSON   \n",
      "1369467  REGISTERED AGENT SOLUTIONS, INC.   \n",
      "\n",
      "                                                 AgentAddr  \n",
      "0        189 WELLS AVE SUITE 302, , NEWTON CENTRE, MA 0...  \n",
      "1            5 EXCHANGE STREET, SUITE 4, MILFORD, MA 01757  \n",
      "2              45 SCHOOL STREET, STE 202, BOSTON, MA 02108  \n",
      "3                         84 STATE ST., , BOSTON, MA 02109  \n",
      "4                 32 CAMBRIDGE ST., , WINCHESTER, MA 01890  \n",
      "...                                                    ...  \n",
      "1369463               104A HIGH ST, , PLAINVILLE, MA 02762  \n",
      "1369464             101 PARKER ROAD, , WELLESLEY, MA 02482  \n",
      "1369465      319B CENTRE STREET, , JAMAICA PLAIN, MA 02130  \n",
      "1369466          246 MAPLE STREET, , MARLBOROUGH, MA 01752  \n",
      "1369467     44 SCHOOL STREET SUITE 505, , BOSTON, MA 02108  \n",
      "\n",
      "[1369468 rows x 6 columns]\n"
     ]
    }
   ],
   "source": [
    "# concatenate entity address\n",
    "corp_df.loc[:,'EntityAddr'] = [', '.join((str(a),str(b),str(c),str(d))) for a,b,c,d in zip(corp_df['Addr1'],corp_df['Addr2'],corp_df['City'],corp_df['State'])]\n",
    "# double comma problem\n",
    "# append zip to address with no comma\n",
    "corp_df.loc[:,'EntityAddr'] = [' '.join((str(a),str(b))) for a,b in zip(corp_df['EntityAddr'],corp_df['PostalCode'])]\n",
    "corp_df.loc[:,'EntityAddr'] = corp_df.EntityAddr.str.strip()\n",
    "\n",
    "# concatenate agent address\n",
    "corp_df.loc[:,'AgentAddr'] = [', '.join((str(a),str(b),str(c),str(d))) for a,b,c,d in zip(corp_df['AgentAddr1'],corp_df['AgentAddr2'],corp_df['AgentCity'],corp_df['AgentState'])]\n",
    "# append zip to agent address\n",
    "corp_df.loc[:,'AgentAddr'] = [' '.join((str(a),str(b))) for a,b in zip(corp_df['AgentAddr'],corp_df['AgentPostalCode'])]\n",
    "corp_df.loc[:,'AgentAddr'] = corp_df.AgentAddr.str.strip()\n",
    "\n",
    "# slice\n",
    "corp_df_sliced = corp_df[['_key','_id','EntityName','EntityAddr','AgentName','AgentAddr']]\n",
    "print(corp_df_sliced)"
   ]
  },
  {
   "cell_type": "code",
   "execution_count": 11,
   "metadata": {},
   "outputs": [
    {
     "name": "stdout",
     "output_type": "stream",
     "text": [
      "{'_key': '12872246', '_id': 'corp_individual/12872246', '_rev': '_eU6cXum---', 'DataID': '007gxq', 'IndividualTitle': 'TREASURER', 'IndividualTypeFlag': 'B', 'FirstName': 'CHARLES', 'LastName': 'BURKE', 'MiddleName': '', 'Suffix': '', 'TermExpiration': '', 'BusAddr1': '55 CROSS LANE, ', 'BusCity': 'BEVERLY', 'BusState': 'MA', 'BusCountryCode': 'USA', 'BusPostalCode': '', 'ResAddr1': '55 CROSS LANE, ', 'ResCity': 'BEVERLY', 'ResState': 'MA', 'ResCountryCode': 'USA', 'ResPostalCode': ''}\n"
     ]
    }
   ],
   "source": [
    "# extracting the values of the corp_individual collection\n",
    "indiv_aql = \"FOR x IN corp_individual RETURN x\"\n",
    "indiv_query_result = corp_db.AQLQuery(indiv_aql,rawResults=True, batchSize = 1000)\n",
    "col_indiv = {}\n",
    "ind_indiv = 0\n",
    "\n",
    "for indiv in indiv_query_result:\n",
    "    col_indiv[ind_indiv] = indiv\n",
    "    ind_indiv += 1\n",
    "    \n",
    "print(col_indiv[0])"
   ]
  },
  {
   "cell_type": "code",
   "execution_count": 12,
   "metadata": {},
   "outputs": [],
   "source": [
    "indiv_df = pd.DataFrame.from_dict(data = col_indiv, orient = 'index')"
   ]
  },
  {
   "cell_type": "code",
   "execution_count": 14,
   "metadata": {},
   "outputs": [
    {
     "name": "stdout",
     "output_type": "stream",
     "text": [
      "             _key                       _id             IndividualName  \\\n",
      "0        12872246  corp_individual/12872246             CHARLES  BURKE   \n",
      "1        12872247  corp_individual/12872247       GERALDINE M. SHAHEEN   \n",
      "2        12872248  corp_individual/12872248  ALEXSANDRO OLIVEIRA VIANA   \n",
      "3        12872249  corp_individual/12872249          KEVIN LEO BUCKLEY   \n",
      "4        12872250  corp_individual/12872250   NIVALDO LEMOS NASCIMENTO   \n",
      "...           ...                       ...                        ...   \n",
      "4905634  17777964  corp_individual/17777964       CHRISTOPHER  SPENCER   \n",
      "4905635  17777965  corp_individual/17777965      LAWRENCE M. PETTORUTO   \n",
      "4905636  17777966  corp_individual/17777966      LAWRENCE M. PETTORUTO   \n",
      "4905637  17777967  corp_individual/17777967      LAWRENCE M. PETTORUTO   \n",
      "4905638  17777968  corp_individual/17777968      LAWRENCE M. PETTORUTO   \n",
      "\n",
      "                                              BusAddr  \\\n",
      "0                        55 CROSS LANE, , BEVERLY, MA   \n",
      "1                 5004 WASHINGTON ST. WEST , ROXBURY,   \n",
      "2        126 NICHOLS STREET APT. 2, EVERETT, MA 02149   \n",
      "3                                                 , ,   \n",
      "4                                                 , ,   \n",
      "...                                               ...   \n",
      "4905634                                           , ,   \n",
      "4905635                                           , ,   \n",
      "4905636                                           , ,   \n",
      "4905637                                           , ,   \n",
      "4905638                                           , ,   \n",
      "\n",
      "                                                  ResAddr  \n",
      "0                            55 CROSS LANE, , BEVERLY, MA  \n",
      "1                     5004 WASHINGTON ST. WEST , ROXBURY,  \n",
      "2                                                     , ,  \n",
      "3                   21 NORTHGATE ROAD, FRANKLIN, MA 02038  \n",
      "4                 157 LELAND ST # 2, FRAMINGHAM, MA 01702  \n",
      "...                                                   ...  \n",
      "4905634        1451 MARVIN GRIFFIN RD., AUGUSTA, GA 30906  \n",
      "4905635  1 POWDER MILL SQUARE UNIT 102, ANDOVER, MA 01810  \n",
      "4905636  1 POWDER MILL SQUARE UNIT 102, ANDOVER, MA 01810  \n",
      "4905637  1 POWDER MILL SQUARE UNIT 102, ANDOVER, MA 01810  \n",
      "4905638  1 POWDER MILL SQUARE UNIT 102, ANDOVER, MA 01810  \n",
      "\n",
      "[4905639 rows x 5 columns]\n"
     ]
    }
   ],
   "source": [
    "# concatenate business address\n",
    "indiv_df.loc[:,'BusAddr'] = [', '.join((str(a),str(b),str(c))) for a,b,c in zip(indiv_df['BusAddr1'],indiv_df['BusCity'],indiv_df['BusState'])]\n",
    "# append zip to address with no comma\n",
    "indiv_df.loc[:,'BusAddr'] = [' '.join((str(a),str(b))) for a,b in zip(indiv_df['BusAddr'],indiv_df['BusPostalCode'])]\n",
    "indiv_df.loc[:,'BusAddr'] = indiv_df.BusAddr.str.strip()\n",
    "\n",
    "# concatenate residential address\n",
    "indiv_df.loc[:,'ResAddr'] = [', '.join((str(a),str(b),str(c))) for a,b,c in zip(indiv_df['ResAddr1'],indiv_df['ResCity'],indiv_df['ResState'])]\n",
    "# append zip to address with no comma\n",
    "indiv_df.loc[:,'ResAddr'] = [' '.join((str(a),str(b))) for a,b in zip(indiv_df['ResAddr'],indiv_df['ResPostalCode'])]\n",
    "indiv_df.loc[:,'ResAddr'] = indiv_df.ResAddr.str.strip()\n",
    "\n",
    "# concatenate name\n",
    "indiv_df.loc[:,'IndividualName'] = [' '.join((str(a),str(b),str(c))) for a,b,c in zip(indiv_df['FirstName'],indiv_df['MiddleName'],indiv_df['LastName'])]\n",
    "\n",
    "# slice\n",
    "indiv_df_sliced = indiv_df[['_key','_id','IndividualName','BusAddr','ResAddr']]\n",
    "print(indiv_df_sliced)"
   ]
  },
  {
   "cell_type": "code",
   "execution_count": null,
   "metadata": {},
   "outputs": [],
   "source": []
  }
 ],
 "metadata": {
  "kernelspec": {
   "display_name": "Python 3 (ipykernel)",
   "language": "python",
   "name": "python3"
  },
  "language_info": {
   "codemirror_mode": {
    "name": "ipython",
    "version": 3
   },
   "file_extension": ".py",
   "mimetype": "text/x-python",
   "name": "python",
   "nbconvert_exporter": "python",
   "pygments_lexer": "ipython3",
   "version": "3.9.12"
  },
  "vscode": {
   "interpreter": {
    "hash": "137c83b3478ffedff7431332c4108c29fc5733a37d136ef8c89fd7a45cc0790b"
   }
  }
 },
 "nbformat": 4,
 "nbformat_minor": 4
}
