{
 "cells": [
  {
   "cell_type": "code",
   "execution_count": 1,
   "metadata": {
    "executionInfo": {
     "elapsed": 1892,
     "status": "ok",
     "timestamp": 1656868994546,
     "user": {
      "displayName": "Yizhou Tan",
      "userId": "02431669335369619733"
     },
     "user_tz": 240
    },
    "id": "mAshP68jvnh7",
    "scrolled": false
   },
   "outputs": [],
   "source": [
    "import pandas as pd\n",
    "import fiona\n",
    "import geopandas as gpd\n",
    "from sqlalchemy import create_engine\n",
    "import numpy as np\n",
    "#import dedupe\n",
    "from dotenv import load_dotenv\n",
    "import os\n",
    "import pyArango\n",
    "import usaddress\n",
    "from usaddress import tag\n",
    "from scourgify import normalize_address_record\n",
    "import re\n",
    "import json"
   ]
  },
  {
   "cell_type": "code",
   "execution_count": 2,
   "metadata": {
    "executionInfo": {
     "elapsed": 14,
     "status": "ok",
     "timestamp": 1656868995457,
     "user": {
      "displayName": "Yizhou Tan",
      "userId": "02431669335369619733"
     },
     "user_tz": 240
    },
    "id": "W6XHklwDvnh9"
   },
   "outputs": [],
   "source": [
    "from pyArango.connection import *\n",
    "conn = Connection(username=\"root\", password=\"0505\")"
   ]
  },
  {
   "cell_type": "code",
   "execution_count": 3,
   "metadata": {
    "executionInfo": {
     "elapsed": 9,
     "status": "ok",
     "timestamp": 1656868996672,
     "user": {
      "displayName": "Yizhou Tan",
      "userId": "02431669335369619733"
     },
     "user_tz": 240
    },
    "id": "-rPnL-DZvnh-"
   },
   "outputs": [],
   "source": [
    "load_dotenv()\n",
    "PG_CONNECT = os.getenv(\"PG_CONNECT\")"
   ]
  },
  {
   "cell_type": "code",
   "execution_count": 4,
   "metadata": {
    "executionInfo": {
     "elapsed": 7,
     "status": "ok",
     "timestamp": 1656868997727,
     "user": {
      "displayName": "Yizhou Tan",
      "userId": "02431669335369619733"
     },
     "user_tz": 240
    },
    "id": "ZxT4nOcOvnh-"
   },
   "outputs": [],
   "source": [
    "# create arangoDB database, or open it if it already exists\n",
    "try:\n",
    "    corp_db = conn.createDatabase(name=\"corp_data\")\n",
    "    # from command line:\n",
    "    # arangoimport --file '''path to CorpData.csv''' --collection corp_data --create-collection true --type csv --server.database corp_data\n",
    "    # arangoimport --file '''path to CorpIndividualExport.csv''' --collection corp_individual --create-collection true --type csv --server.database corp_data\n",
    "\n",
    "except:\n",
    "    corp_db = conn[\"corp_data\"]"
   ]
  },
  {
   "cell_type": "code",
   "execution_count": null,
   "metadata": {
    "id": "zim7sfDyvnh_"
   },
   "outputs": [],
   "source": [
    "# arangoDB database structure:\n",
    "\n",
    "# corp_db: arangoDB database\n",
    "# corp_db[\"corp_data\"]: arangoDB collection\n",
    "# corp_db[\"corp_data\"][17777999]: arangoDB document (one piece of data, or one corporation)"
   ]
  },
  {
   "cell_type": "code",
   "execution_count": 6,
   "metadata": {
    "executionInfo": {
     "elapsed": 59304,
     "status": "ok",
     "timestamp": 1656869080335,
     "user": {
      "displayName": "Yizhou Tan",
      "userId": "02431669335369619733"
     },
     "user_tz": 240
    },
    "id": "kP74RVOyvniA"
   },
   "outputs": [],
   "source": [
    "# extracting the values of the indiv_data_processed collection\n",
    "indiv_aql = \"FOR x IN indiv_data_processed RETURN x\"\n",
    "indiv_query_result = corp_db.AQLQuery(indiv_aql,rawResults=True, batchSize = 1000)\n",
    "col_indiv = {}\n",
    "ind_indiv = 0\n",
    "\n",
    "for indiv in indiv_query_result:\n",
    "    col_indiv[ind_indiv] = indiv\n",
    "    ind_indiv += 1\n",
    "\n",
    "indiv = pd.DataFrame.from_dict(data = col_indiv, orient = 'index')\n",
    "indiv_ar = indiv.to_numpy()"
   ]
  },
  {
   "cell_type": "code",
   "execution_count": 8,
   "metadata": {},
   "outputs": [],
   "source": [
    "# extracting the keys of the l3_assess collection\n",
    "key_aql = \"FOR x IN indiv_data_processed RETURN x._key\"\n",
    "key_query_result = corp_db.AQLQuery(key_aql,rawResults=True, batchSize = 1000)\n",
    "indiv_keys = []\n",
    "\n",
    "for key in key_query_result:\n",
    "    indiv_keys.append(key)"
   ]
  },
  {
   "cell_type": "code",
   "execution_count": 8,
   "metadata": {
    "colab": {
     "base_uri": "https://localhost:8080/"
    },
    "executionInfo": {
     "elapsed": 11541967,
     "status": "ok",
     "timestamp": 1656913378709,
     "user": {
      "displayName": "Yizhou Tan",
      "userId": "02431669335369619733"
     },
     "user_tz": 240
    },
    "id": "UWAhDf8y1Zk3",
    "outputId": "3446c392-24de-406f-9ed2-ce6f01486ac9"
   },
   "outputs": [
    {
     "name": "stdout",
     "output_type": "stream",
     "text": [
      "1200\n",
      "1200000 1201000\n",
      "1201\n",
      "1201000 1202000\n",
      "1202\n",
      "1202000 1203000\n",
      "1203\n",
      "1203000 1204000\n",
      "1204\n",
      "1204000 1205000\n",
      "1205\n",
      "1205000 1206000\n",
      "1206\n",
      "1206000 1207000\n",
      "1207\n",
      "1207000 1208000\n",
      "1208\n",
      "1208000 1209000\n",
      "1209\n",
      "1209000 1210000\n",
      "1210\n",
      "1210000 1211000\n",
      "1211\n",
      "1211000 1212000\n",
      "1212\n",
      "1212000 1213000\n",
      "1213\n",
      "1213000 1214000\n",
      "1214\n",
      "1214000 1215000\n",
      "1215\n",
      "1215000 1216000\n",
      "1216\n",
      "1216000 1217000\n",
      "1217\n",
      "1217000 1218000\n",
      "1218\n",
      "1218000 1219000\n",
      "1219\n",
      "1219000 1220000\n",
      "1220\n",
      "1220000 1221000\n",
      "1221\n",
      "1221000 1222000\n",
      "1222\n",
      "1222000 1223000\n",
      "1223\n",
      "1223000 1224000\n",
      "1224\n",
      "1224000 1225000\n",
      "1225\n",
      "1225000 1226000\n",
      "1226\n",
      "1226000 1227000\n",
      "1227\n",
      "1227000 1228000\n",
      "1228\n",
      "1228000 1229000\n",
      "1229\n",
      "1229000 1230000\n",
      "1230\n",
      "1230000 1231000\n",
      "1231\n",
      "1231000 1232000\n",
      "1232\n",
      "1232000 1233000\n",
      "1233\n",
      "1233000 1234000\n",
      "1234\n",
      "1234000 1235000\n",
      "1235\n",
      "1235000 1236000\n",
      "1236\n",
      "1236000 1237000\n",
      "1237\n",
      "1237000 1238000\n",
      "1238\n",
      "1238000 1239000\n",
      "1239\n",
      "1239000 1240000\n",
      "1240\n",
      "1240000 1241000\n",
      "1241\n",
      "1241000 1242000\n",
      "1242\n",
      "1242000 1243000\n",
      "1243\n",
      "1243000 1244000\n",
      "1244\n",
      "1244000 1245000\n",
      "1245\n",
      "1245000 1246000\n",
      "1246\n",
      "1246000 1247000\n",
      "1247\n",
      "1247000 1248000\n",
      "1248\n",
      "1248000 1249000\n",
      "1249\n",
      "1249000 1250000\n",
      "1250\n",
      "1250000 1251000\n",
      "1251\n",
      "1251000 1252000\n",
      "1252\n",
      "1252000 1253000\n",
      "1253\n",
      "1253000 1254000\n",
      "1254\n",
      "1254000 1255000\n",
      "1255\n",
      "1255000 1256000\n",
      "1256\n",
      "1256000 1257000\n",
      "1257\n",
      "1257000 1258000\n",
      "1258\n",
      "1258000 1259000\n",
      "1259\n",
      "1259000 1260000\n",
      "1260\n",
      "1260000 1261000\n",
      "1261\n",
      "1261000 1262000\n",
      "1262\n",
      "1262000 1263000\n",
      "1263\n",
      "1263000 1264000\n",
      "1264\n",
      "1264000 1265000\n",
      "1265\n",
      "1265000 1266000\n",
      "1266\n",
      "1266000 1267000\n",
      "1267\n",
      "1267000 1268000\n",
      "1268\n",
      "1268000 1269000\n",
      "1269\n",
      "1269000 1270000\n",
      "1270\n",
      "1270000 1271000\n",
      "1271\n",
      "1271000 1272000\n",
      "1272\n",
      "1272000 1273000\n",
      "1273\n",
      "1273000 1274000\n",
      "1274\n",
      "1274000 1275000\n",
      "1275\n",
      "1275000 1276000\n",
      "1276\n",
      "1276000 1277000\n",
      "1277\n",
      "1277000 1278000\n",
      "1278\n",
      "1278000 1279000\n",
      "1279\n",
      "1279000 1280000\n",
      "1280\n",
      "1280000 1281000\n",
      "1281\n",
      "1281000 1282000\n",
      "1282\n",
      "1282000 1283000\n",
      "1283\n",
      "1283000 1284000\n",
      "1284\n",
      "1284000 1285000\n"
     ]
    }
   ],
   "source": [
    "def indiv2indiv(keys, batch_size):\n",
    "    \n",
    "    for i in range(0,100):\n",
    "        print(i)\n",
    "        print(i*batch_size,(i+1)*batch_size)\n",
    "        batch_keys = keys[i*batch_size:(i+1)*batch_size][:]\n",
    "            \n",
    "        for key in range(0,batch_keys.shape[0]):\n",
    "            indiv = corp_db[\"indiv_data_processed\"].fetchDocument(key)\n",
    "            id1 = \"indiv_data_processed/\" + key\n",
    "            for i_id in indiv_id:\n",
    "                edge_attributes = {\"_from\": corp_id, \"_to\": i_id, \"type\": 'corp2indiv', \"DataID\": cid}\n",
    "                edge = corp_db[\"indiv2indiv\"].createDocument(edge_attributes)\n",
    "                edge.save()\n",
    "\n",
    "indiv2indiv(indiv_keys,1000)"
   ]
  },
  {
   "cell_type": "code",
   "execution_count": 7,
   "metadata": {
    "colab": {
     "base_uri": "https://localhost:8080/"
    },
    "executionInfo": {
     "elapsed": 11,
     "status": "ok",
     "timestamp": 1656655084595,
     "user": {
      "displayName": "Yizhou Tan",
      "userId": "02431669335369619733"
     },
     "user_tz": 240
    },
    "id": "c0VyVncPVhy0",
    "outputId": "9151f1cd-0792-4353-99f7-657ab02d1c27"
   },
   "outputs": [
    {
     "name": "stdout",
     "output_type": "stream",
     "text": [
      "4905.639\n"
     ]
    }
   ],
   "source": [
    "print(indiv_ar.shape[0]/1000)"
   ]
  },
  {
   "cell_type": "code",
   "execution_count": null,
   "metadata": {
    "id": "uWOx80uW9q3t"
   },
   "outputs": [],
   "source": [
    "def one_hot(indices,df):\n",
    "    hot = np.full(len(df),False)\n",
    "    hot[indices] = True\n",
    "    cold = np.invert(hot)\n",
    "    return hot, cold\n",
    "\n",
    "def corp2indiv_test(corp_df, indiv_df):\n",
    "    print(len(indiv_df))\n",
    "    for j in range(0,corp_df.shape[0]):\n",
    "        cid = corp_df[j][3] \n",
    "        corp_id = corp_df[j][1]\n",
    "        c_indiv = np.where(indiv_df[:,3] == cid)[0]\n",
    "        #print(c_indiv)\n",
    "        #mask, invert_mask = one_hot(c_indiv,indiv_df)\n",
    "        #print(mask)\n",
    "        indiv_id = indiv_df[c_indiv][:,1]\n",
    "        #indiv_id = indiv_df[mask,1]\n",
    "        for i_id in indiv_id:\n",
    "          print(corp_id,i_id)\n",
    "\n",
    "        #indiv_df = indiv_df[invert_mask,:]\n",
    "    #print(len(indiv_df))\n",
    "\n",
    "corp2indiv_test(corp_ar[0:100,:],indiv_ar)"
   ]
  },
  {
   "cell_type": "code",
   "execution_count": null,
   "metadata": {
    "id": "m2ukO6s2-y7N"
   },
   "outputs": [],
   "source": [
    "print(corp_ar[0:10,:])"
   ]
  },
  {
   "cell_type": "code",
   "execution_count": null,
   "metadata": {
    "colab": {
     "base_uri": "https://localhost:8080/",
     "height": 321
    },
    "collapsed": true,
    "executionInfo": {
     "elapsed": 509377,
     "status": "error",
     "timestamp": 1656648775849,
     "user": {
      "displayName": "Yizhou Tan",
      "userId": "02431669335369619733"
     },
     "user_tz": 240
    },
    "id": "x1uX2hayvniC",
    "outputId": "9e9896b6-d0db-4033-80a2-dcb2120f64af"
   },
   "outputs": [
    {
     "name": "stdout",
     "output_type": "stream",
     "text": [
      "0\n",
      "1 1000\n"
     ]
    },
    {
     "ename": "KeyboardInterrupt",
     "evalue": "ignored",
     "output_type": "error",
     "traceback": [
      "\u001b[1;31m---------------------------------------------------------------------------\u001b[0m",
      "\u001b[1;31mKeyboardInterrupt\u001b[0m                         Traceback (most recent call last)",
      "\u001b[1;32m~\\AppData\\Local\\Temp\\ipykernel_18544\\2394051731.py\u001b[0m in \u001b[0;36m<module>\u001b[1;34m\u001b[0m\n\u001b[1;32m----> 1\u001b[1;33m \u001b[0mcorp2indiv2\u001b[0m\u001b[1;33m(\u001b[0m\u001b[0mcorp_ar\u001b[0m\u001b[1;33m,\u001b[0m\u001b[0mindiv_ar\u001b[0m\u001b[1;33m,\u001b[0m\u001b[1;36m1000\u001b[0m\u001b[1;33m)\u001b[0m\u001b[1;33m\u001b[0m\u001b[1;33m\u001b[0m\u001b[0m\n\u001b[0m",
      "\u001b[1;32m~\\AppData\\Local\\Temp\\ipykernel_18544\\1496529362.py\u001b[0m in \u001b[0;36mcorp2indiv2\u001b[1;34m(corp_df, indiv_df, batch_size)\u001b[0m\n\u001b[0;32m     24\u001b[0m                 \u001b[0medge\u001b[0m\u001b[1;33m.\u001b[0m\u001b[0msave\u001b[0m\u001b[1;33m(\u001b[0m\u001b[1;33m)\u001b[0m\u001b[1;33m\u001b[0m\u001b[1;33m\u001b[0m\u001b[0m\n\u001b[0;32m     25\u001b[0m \u001b[1;33m\u001b[0m\u001b[0m\n\u001b[1;32m---> 26\u001b[1;33m             \u001b[0mindiv_df\u001b[0m \u001b[1;33m=\u001b[0m \u001b[0mindiv_df\u001b[0m\u001b[1;33m[\u001b[0m\u001b[0mindiv_df\u001b[0m\u001b[1;33m[\u001b[0m\u001b[1;33m:\u001b[0m\u001b[1;33m,\u001b[0m\u001b[1;36m3\u001b[0m\u001b[1;33m]\u001b[0m \u001b[1;33m!=\u001b[0m \u001b[0mcid\u001b[0m\u001b[1;33m]\u001b[0m\u001b[1;33m\u001b[0m\u001b[1;33m\u001b[0m\u001b[0m\n\u001b[0m\u001b[0;32m     27\u001b[0m         \u001b[0mprint\u001b[0m\u001b[1;33m(\u001b[0m\u001b[0mlen\u001b[0m\u001b[1;33m(\u001b[0m\u001b[0mindiv_df\u001b[0m\u001b[1;33m)\u001b[0m\u001b[1;33m)\u001b[0m\u001b[1;33m\u001b[0m\u001b[1;33m\u001b[0m\u001b[0m\n",
      "\u001b[1;31mKeyboardInterrupt\u001b[0m: "
     ]
    }
   ],
   "source": [
    "corp2indiv2(corp_ar,indiv_ar,1000)"
   ]
  },
  {
   "cell_type": "code",
   "execution_count": null,
   "metadata": {
    "id": "f_s2HoXrvniB"
   },
   "outputs": [],
   "source": [
    "corp2 = corp.loc[0:0,:]"
   ]
  },
  {
   "cell_type": "code",
   "execution_count": null,
   "metadata": {
    "id": "uvY3_b9xvniC",
    "outputId": "70a2098b-3679-4682-e5f9-c98bd75dee3f"
   },
   "outputs": [
    {
     "name": "stdout",
     "output_type": "stream",
     "text": [
      "4905639\n"
     ]
    }
   ],
   "source": [
    "print(len(indiv))"
   ]
  }
 ],
 "metadata": {
  "accelerator": "GPU",
  "colab": {
   "collapsed_sections": [],
   "name": "landowner_network.ipynb",
   "provenance": []
  },
  "gpuClass": "standard",
  "kernelspec": {
   "display_name": "NetworkCode",
   "language": "python",
   "name": "networkcode"
  },
  "language_info": {
   "codemirror_mode": {
    "name": "ipython",
    "version": 3
   },
   "file_extension": ".py",
   "mimetype": "text/x-python",
   "name": "python",
   "nbconvert_exporter": "python",
   "pygments_lexer": "ipython3",
   "version": "3.7.9"
  },
  "vscode": {
   "interpreter": {
    "hash": "137c83b3478ffedff7431332c4108c29fc5733a37d136ef8c89fd7a45cc0790b"
   }
  }
 },
 "nbformat": 4,
 "nbformat_minor": 1
}
