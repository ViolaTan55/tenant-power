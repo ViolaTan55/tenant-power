{
 "cells": [
  {
   "cell_type": "code",
   "execution_count": 2,
   "metadata": {
    "scrolled": false
   },
   "outputs": [],
   "source": [
    "import pandas as pd\n",
    "import fiona\n",
    "import geopandas as gpd\n",
    "from sqlalchemy import create_engine\n",
    "import numpy as np\n",
    "from dotenv import load_dotenv\n",
    "import os\n",
    "import pyArango\n",
    "import usaddress\n",
    "from usaddress import tag\n",
    "from scourgify import normalize_address_record\n",
    "import re\n",
    "import json"
   ]
  },
  {
   "cell_type": "code",
   "execution_count": 4,
   "metadata": {},
   "outputs": [],
   "source": [
    "load_dotenv()\n",
    "PG_CONNECT = os.getenv(\"PG_CONNECT\")"
   ]
  },
  {
   "cell_type": "markdown",
   "metadata": {
    "scrolled": true
   },
   "source": [
    "# process geodatabase\n",
    "l3_assess_geo = gpd.read_file(\"../MassGIS_L3_Parcels_gdb/MassGIS_L3_Parcels.gdb\", driver='FileGDB', layer=2) #L3_ASSESS\n",
    "l3_assess = pd.DataFrame(l3_assess_geo)\n",
    "print(l3_assess)"
   ]
  },
  {
   "cell_type": "code",
   "execution_count": 9,
   "metadata": {},
   "outputs": [],
   "source": [
    "# Parcel data from MassGIS Data\n",
    "# https://www.mass.gov/forms/massgis-request-statewide-parcel-data\n",
    "\n",
    "# Residential Land Use Codes from MA Dept of Revenue\n",
    "# https://www.mass.gov/files/documents/2016/08/wr/classificationcodebook.pdf\n",
    "# Codes are 101*-109*, 031*, and 013*\n",
    "# Often include suffixes (letters, zeroes or no character), thus regex\n",
    "\n",
    "USE_CODES = '^1[0-1][1-9]*?|^013*?|^031*?'"
   ]
  },
  {
   "cell_type": "code",
   "execution_count": 10,
   "metadata": {},
   "outputs": [],
   "source": [
    "l3_assess = l3_assess[l3_assess['USE_CODE'].str.contains(USE_CODES, regex=True)]"
   ]
  },
  {
   "cell_type": "code",
   "execution_count": 17,
   "metadata": {},
   "outputs": [],
   "source": [
    "# concatenate property address\n",
    "l3_assess.loc[:,'PropAddr'] = [', '.join((str(a),str(b))) for a,b in zip(l3_assess['SITE_ADDR'],l3_assess['CITY'])]\n",
    "# append zip to address with no comma\n",
    "l3_assess.loc[:,'PropAddr'] = [' '.join((str(a),str(b))) for a,b in zip(l3_assess['PropAddr'],l3_assess['ZIP'])]\n",
    "l3_assess.loc[:,'PropAddr'] = l3_assess.PropAddr.str.strip()\n",
    "\n",
    "# concatenate owner address\n",
    "l3_assess.loc[:,'OwnAddr'] = [', '.join((str(a),str(b),str(c))) for a,b,c in zip(l3_assess['OWN_ADDR'],l3_assess['OWN_CITY'],l3_assess['OWN_STATE'])]\n",
    "# append zip to address with no comma\n",
    "l3_assess.loc[:,'OwnAddr'] = [' '.join((str(a),str(b))) for a,b in zip(l3_assess['OwnAddr'],l3_assess['OWN_ZIP'])]\n",
    "l3_assess.loc[:,'OwnAddr'] = l3_assess.OwnAddr.str.strip()"
   ]
  },
  {
   "cell_type": "code",
   "execution_count": 18,
   "metadata": {},
   "outputs": [],
   "source": [
    "# two normalization methods to deal with failures of the normalize_address_record() method\n",
    "\n",
    "def normalize_dict(x):\n",
    "    try:\n",
    "        x_1=normalize_address_record(x)\n",
    "    except:\n",
    "        y=corp_df_sliced.index[corp_df_sliced['EntityAddr'] == x]\n",
    "        addr1=corp_df.loc[y,'Addr1'].to_string()\n",
    "        addr2=corp_df.loc[y,'Addr2'].to_string()\n",
    "        city=corp_df.loc[y,'City'].to_string()\n",
    "        state=corp_df.loc[y,'State'].to_string()\n",
    "        pc=corp_df.loc[y,'PostalCode'].to_string()\n",
    "        x_1 = {'address_line_1': addr1, 'address_line_2': addr2, 'city': city, 'state': state, 'postal_code': pc}\n",
    "        pass\n",
    "    return x_1\n",
    "\n",
    "def normalize_concat(x):\n",
    "    if(x==', , ,'):\n",
    "        x_1 = None\n",
    "    else:\n",
    "        try:\n",
    "            y = normalize_address_record(x)\n",
    "            try:\n",
    "                y_0 = ', '.join([y['address_line_1'],y['address_line_2'],y['city'],y['state']])\n",
    "            except:\n",
    "                y_0 = ', '.join([y['address_line_1'],y['city'],y['state']])\n",
    "            y_1 = ' '.join((y_0,y['postal_code']))\n",
    "            x_1 = y_1.strip()\n",
    "        except:\n",
    "            x_1 = x\n",
    "            pass\n",
    "    return x_1"
   ]
  },
  {
   "cell_type": "code",
   "execution_count": 19,
   "metadata": {},
   "outputs": [],
   "source": [
    "#normalize addresses\n",
    "l3_assess.loc[:,'PropAddr']=l3_assess.loc[:,'PropAddr'].apply(lambda x:normalize_concat(x))\n",
    "l3_assess.loc[:,'OwnAddr']=l3_assess.loc[:,'OwnAddr'].apply(lambda x:normalize_concat(x))"
   ]
  },
  {
   "cell_type": "code",
   "execution_count": 23,
   "metadata": {},
   "outputs": [],
   "source": [
    "l3_assess.loc[:,'LS_DATE'] = pd.to_datetime(l3_assess['LS_DATE'], format='%Y%m%d', errors='coerce')\n",
    "l3_assess = l3_assess[['PROP_ID', 'LOC_ID', 'PropAddr', 'UNITS', 'OWNER1', 'OwnAddr', 'TOTAL_VAL', 'FY', 'LS_DATE', 'LS_PRICE']]"
   ]
  },
  {
   "cell_type": "code",
   "execution_count": 27,
   "metadata": {},
   "outputs": [],
   "source": [
    "# create json and write it to an existing empty json file\n",
    "result = l3_assess.to_json(orient=\"records\")\n",
    "parsed = json.loads(result)\n",
    "l3_json = json.dumps(parsed, indent=4) \n",
    "\n",
    "with open('../l3.json', 'w') as outfile:\n",
    "    outfile.write(l3_json)"
   ]
  }
 ],
 "metadata": {
  "kernelspec": {
   "display_name": "NetworkCode",
   "language": "python",
   "name": "networkcode"
  },
  "language_info": {
   "codemirror_mode": {
    "name": "ipython",
    "version": 3
   },
   "file_extension": ".py",
   "mimetype": "text/x-python",
   "name": "python",
   "nbconvert_exporter": "python",
   "pygments_lexer": "ipython3",
   "version": "3.7.9"
  },
  "vscode": {
   "interpreter": {
    "hash": "137c83b3478ffedff7431332c4108c29fc5733a37d136ef8c89fd7a45cc0790b"
   }
  }
 },
 "nbformat": 4,
 "nbformat_minor": 4
}
