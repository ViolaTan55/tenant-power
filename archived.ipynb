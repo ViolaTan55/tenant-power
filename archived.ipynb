{
 "cells": [
  {
   "cell_type": "code",
   "execution_count": 2,
   "metadata": {
    "scrolled": false
   },
   "outputs": [],
   "source": [
    "import pandas as pd\n",
    "import fiona\n",
    "import geopandas as gpd\n",
    "from sqlalchemy import create_engine\n",
    "import numpy as np\n",
    "#import dedupe\n",
    "from dotenv import load_dotenv\n",
    "import os\n",
    "import pyArango\n",
    "import usaddress\n",
    "from usaddress import tag\n",
    "from scourgify import normalize_address_record\n",
    "import re\n",
    "import json"
   ]
  },
  {
   "cell_type": "code",
   "execution_count": 3,
   "metadata": {},
   "outputs": [],
   "source": [
    "from pyArango.connection import *\n",
    "conn = Connection(username=\"root\", password=\"0505\")"
   ]
  },
  {
   "cell_type": "code",
   "execution_count": 4,
   "metadata": {},
   "outputs": [],
   "source": [
    "load_dotenv()\n",
    "PG_CONNECT = os.getenv(\"PG_CONNECT\")"
   ]
  },
  {
   "cell_type": "code",
   "execution_count": 4,
   "metadata": {},
   "outputs": [],
   "source": [
    "# create arangoDB database, or open it if it already exists\n",
    "try:\n",
    "    corp_db = conn.createDatabase(name=\"corp_data\")\n",
    "    # from command line:\n",
    "    # arangoimport --file '''path to CorpData.csv''' --collection corp_data --create-collection true --type csv --server.database corp_data\n",
    "    # arangoimport --file '''path to CorpIndividualExport.csv''' --collection corp_individual --create-collection true --type csv --server.database corp_data\n",
    "\n",
    "except:\n",
    "    corp_db = conn[\"corp_data\"]"
   ]
  },
  {
   "cell_type": "code",
   "execution_count": null,
   "metadata": {},
   "outputs": [],
   "source": [
    "# arangoDB database structure:\n",
    "\n",
    "# corp_db: arangoDB database\n",
    "# corp_db[\"corp_data\"]: arangoDB collection\n",
    "# corp_db[\"corp_data\"][17777999]: arangoDB document (one piece of data, or one corporation)"
   ]
  },
  {
   "cell_type": "code",
   "execution_count": 5,
   "metadata": {},
   "outputs": [],
   "source": [
    "# extracting the values of the corp_data_processed collection\n",
    "val_aql = \"FOR x IN corp_data_processed RETURN x\"\n",
    "value_query_result = corp_db.AQLQuery(val_aql,rawResults=True, batchSize = 1000)\n",
    "col_value = {}\n",
    "ind_val = 0\n",
    "\n",
    "for value in value_query_result:\n",
    "    col_value[ind_val] = value\n",
    "    ind_val += 1\n",
    "    \n",
    "# create dataframe from dictionary of dictionaries\n",
    "corp = pd.DataFrame.from_dict(data = col_value, orient = 'index')"
   ]
  },
  {
   "cell_type": "code",
   "execution_count": 6,
   "metadata": {},
   "outputs": [],
   "source": [
    "# extracting the values of the indiv_data_processed collection\n",
    "indiv_aql = \"FOR x IN indiv_data_processed RETURN x\"\n",
    "indiv_query_result = corp_db.AQLQuery(indiv_aql,rawResults=True, batchSize = 1000)\n",
    "col_indiv = {}\n",
    "ind_indiv = 0\n",
    "\n",
    "for indiv in indiv_query_result:\n",
    "    col_indiv[ind_indiv] = indiv\n",
    "    ind_indiv += 1\n",
    "\n",
    "indiv = pd.DataFrame.from_dict(data = col_indiv, orient = 'index')"
   ]
  },
  {
   "cell_type": "code",
   "execution_count": 7,
   "metadata": {
    "collapsed": true
   },
   "outputs": [
    {
     "name": "stdout",
     "output_type": "stream",
     "text": [
      "             _key                           _id         _rev  DataID  \\\n",
      "0        17777999  corp_data_processed/17777999  _eZCy3XK---  00wepr   \n",
      "1        17778000  corp_data_processed/17778000  _eZCy3XK--_  00v4bw   \n",
      "2        17778001  corp_data_processed/17778001  _eZCy3XK--A  00n9yj   \n",
      "3        17778002  corp_data_processed/17778002  _eZCy3XK--B  00l0iw   \n",
      "4        17778003  corp_data_processed/17778003  _eZCy3XK--C  000002   \n",
      "...           ...                           ...          ...     ...   \n",
      "1283562  19129552  corp_data_processed/19129552  _eZCy6bW--I  00syho   \n",
      "1283563  19129553  corp_data_processed/19129553  _eZCy6bW--J  00seli   \n",
      "1283564  19129555  corp_data_processed/19129555  _eZCy6bW--K  00p1mp   \n",
      "1283565  19129556  corp_data_processed/19129556  _eZCy6bW--L  00t7h3   \n",
      "1283566  19129557  corp_data_processed/19129557  _eZCy6bW--M  00t4c9   \n",
      "\n",
      "                             EntityTypeDescriptor  \\\n",
      "0        Domestic Limited Liability Company (LLC)   \n",
      "1        Domestic Limited Liability Company (LLC)   \n",
      "2         Foreign Limited Liability Company (LLC)   \n",
      "3         Foreign Limited Liability Company (LLC)   \n",
      "4        Domestic Limited Liability Company (LLC)   \n",
      "...                                           ...   \n",
      "1283562               Domestic Profit Corporation   \n",
      "1283563               Domestic Profit Corporation   \n",
      "1283564               Domestic Profit Corporation   \n",
      "1283565  Domestic Limited Liability Company (LLC)   \n",
      "1283566  Domestic Limited Liability Company (LLC)   \n",
      "\n",
      "                                         EntityName  \\\n",
      "0                                  MILLER PLACE LLC   \n",
      "1                                 A  V BUILDERS LLC   \n",
      "2                           GREENLINK FINANCIAL LLC   \n",
      "3                                           DTN LLC   \n",
      "4                     JOSH SHAPIRO SPORTS CAMPS LLC   \n",
      "...                                             ...   \n",
      "1283562                       TJ BERKY BUILDERS INC   \n",
      "1283563               TANKSLEY CONSULTING GROUP INC   \n",
      "1283564                          BOSTON SCITECH INC   \n",
      "1283565  DORCHESTER CONSTRUCTION AND MANAGEMENT LLC   \n",
      "1283566                                     UEX LLC   \n",
      "\n",
      "                                              EntityAddr  \\\n",
      "0        189 WELLS AVE, STE 302, NEWTON CENTRE, MA 02459   \n",
      "1                5 EXCHANGE ST, STE 4, MILFORD, MA 01757   \n",
      "2        3 MACARTHUR PL, STE # 1000, SANTA ANA, CA 92707   \n",
      "3                    11400 RUPP DR, BURNSVILLE, MN 55337   \n",
      "4                     73 OXFORD ST, WINCHESTER, MA 01890   \n",
      "...                                                  ...   \n",
      "1283562          130 COUNTY RD, STE L, IPSWICH, MA 01938   \n",
      "1283563  15 FORESTER RD, MANCHESTER BY THE SEA, MA 01944   \n",
      "1283564                41 DELAPA CIR, WESTWOOD, MA 02090   \n",
      "1283565               242 NEPONSET AVE, BOSTON, MA 02122   \n",
      "1283566         94 MANCHESTER TER, SPRINGFIELD, MA 01108   \n",
      "\n",
      "                           AgentName  \\\n",
      "0                        BARRY S FOX   \n",
      "1                      MARCELO ALVES   \n",
      "2                 COGENCY GLOBAL INC   \n",
      "3        CORPORATION SERVICE COMPANY   \n",
      "4                     JOSHUA SHAPIRO   \n",
      "...                              ...   \n",
      "1283562          CHRISTOPHER SABELLI   \n",
      "1283563               SARAH TANKSLEY   \n",
      "1283564                    MING QIAO   \n",
      "1283565             DARRAGH C MURPHY   \n",
      "1283566                 ZAYNAH HENRY   \n",
      "\n",
      "                                               AgentAddr  \n",
      "0        189 WELLS AVE, STE 302, NEWTON CENTRE, MA 02459  \n",
      "1                5 EXCHANGE ST, STE 4, MILFORD, MA 01757  \n",
      "2                45 SCHOOL ST, STE 202, BOSTON, MA 02108  \n",
      "3                          84 STATE ST, BOSTON, MA 02109  \n",
      "4                  32 CAMBRIDGE ST, WINCHESTER, MA 01890  \n",
      "...                                                  ...  \n",
      "1283562           200 HIGH ST, UNIT 2, IPSWICH, MA 01938  \n",
      "1283563  15 FORESTER RD, MANCHESTER BY THE SEA, MA 01944  \n",
      "1283564           360 UNIVERSITY AVE, WESTWOOD, MA 02090  \n",
      "1283565               242 NEPONSET AVE, BOSTON, MA 02122  \n",
      "1283566         94 MANCHESTER TER, SPRINGFIELD, MA 01108  \n",
      "\n",
      "[1283567 rows x 9 columns]\n"
     ]
    }
   ],
   "source": [
    "print(corp)"
   ]
  },
  {
   "cell_type": "code",
   "execution_count": 110,
   "metadata": {},
   "outputs": [],
   "source": [
    "def corp2indiv(corp_df, indiv_df, batch_size):\n",
    "    \n",
    "    num_batch = int(corp_df.shape[0] / batch_size)\n",
    "    \n",
    "    for i in range(0,num_batch+1):\n",
    "        print(i)\n",
    "        print(i*batch_size+1,(i+1)*batch_size)\n",
    "        batch_df = corp_df.loc[i*batch_size+1:(i+1)*batch_size,:]\n",
    "        \n",
    "        for index, row in batch_df.iterrows():\n",
    "            cid = row['DataID']\n",
    "            c_indiv = indiv_df[indiv_df.DataID == cid]\n",
    "            corp_id = row['_id']\n",
    "            for index2, row2 in c_indiv.iterrows():\n",
    "                indiv_id = row2['_id']\n",
    "                edge_attributes = {\n",
    "                       \"_from\": corp_id,\n",
    "                       \"_to\": indiv_id,\n",
    "                       \"type\": 'corp2indiv',\n",
    "                       \"DataID\":cid}\n",
    "                edge = corp_db[\"corp2indiv\"].createDocument(edge_attributes)\n",
    "                edge.save()\n",
    "                \n",
    "            indiv_df = indiv_df[indiv_df.DataID != cid]\n",
    "        print(len(indiv_df))"
   ]
  },
  {
   "cell_type": "code",
   "execution_count": 78,
   "metadata": {},
   "outputs": [],
   "source": [
    "corp2 = corp.loc[0:0,:]"
   ]
  },
  {
   "cell_type": "code",
   "execution_count": 111,
   "metadata": {
    "collapsed": true
   },
   "outputs": [
    {
     "name": "stdout",
     "output_type": "stream",
     "text": [
      "0\n",
      "1 100\n",
      "4905267\n",
      "1\n",
      "101 200\n",
      "4904867\n",
      "2\n",
      "201 300\n",
      "4904460\n",
      "3\n",
      "301 400\n",
      "4904105\n",
      "4\n",
      "401 500\n",
      "4903753\n",
      "5\n",
      "501 600\n"
     ]
    },
    {
     "ename": "KeyboardInterrupt",
     "evalue": "",
     "output_type": "error",
     "traceback": [
      "\u001b[1;31m---------------------------------------------------------------------------\u001b[0m",
      "\u001b[1;31mKeyboardInterrupt\u001b[0m                         Traceback (most recent call last)",
      "\u001b[1;32m~\\AppData\\Local\\Temp\\ipykernel_4932\\3592679219.py\u001b[0m in \u001b[0;36m<module>\u001b[1;34m\u001b[0m\n\u001b[1;32m----> 1\u001b[1;33m \u001b[0mcorp2indiv\u001b[0m\u001b[1;33m(\u001b[0m\u001b[0mcorp\u001b[0m\u001b[1;33m,\u001b[0m\u001b[0mindiv\u001b[0m\u001b[1;33m,\u001b[0m\u001b[1;36m100\u001b[0m\u001b[1;33m)\u001b[0m\u001b[1;33m\u001b[0m\u001b[1;33m\u001b[0m\u001b[0m\n\u001b[0m",
      "\u001b[1;32m~\\AppData\\Local\\Temp\\ipykernel_4932\\3066306533.py\u001b[0m in \u001b[0;36mcorp2indiv\u001b[1;34m(corp_df, indiv_df, batch_size)\u001b[0m\n\u001b[0;32m     10\u001b[0m         \u001b[1;32mfor\u001b[0m \u001b[0mindex\u001b[0m\u001b[1;33m,\u001b[0m \u001b[0mrow\u001b[0m \u001b[1;32min\u001b[0m \u001b[0mbatch_df\u001b[0m\u001b[1;33m.\u001b[0m\u001b[0miterrows\u001b[0m\u001b[1;33m(\u001b[0m\u001b[1;33m)\u001b[0m\u001b[1;33m:\u001b[0m\u001b[1;33m\u001b[0m\u001b[1;33m\u001b[0m\u001b[0m\n\u001b[0;32m     11\u001b[0m             \u001b[0mcid\u001b[0m \u001b[1;33m=\u001b[0m \u001b[0mrow\u001b[0m\u001b[1;33m[\u001b[0m\u001b[1;34m'DataID'\u001b[0m\u001b[1;33m]\u001b[0m\u001b[1;33m\u001b[0m\u001b[1;33m\u001b[0m\u001b[0m\n\u001b[1;32m---> 12\u001b[1;33m             \u001b[0mc_indiv\u001b[0m \u001b[1;33m=\u001b[0m \u001b[0mindiv_df\u001b[0m\u001b[1;33m[\u001b[0m\u001b[0mindiv_df\u001b[0m\u001b[1;33m.\u001b[0m\u001b[0mDataID\u001b[0m \u001b[1;33m==\u001b[0m \u001b[0mcid\u001b[0m\u001b[1;33m]\u001b[0m\u001b[1;33m\u001b[0m\u001b[1;33m\u001b[0m\u001b[0m\n\u001b[0m\u001b[0;32m     13\u001b[0m             \u001b[0mcorp_id\u001b[0m \u001b[1;33m=\u001b[0m \u001b[0mrow\u001b[0m\u001b[1;33m[\u001b[0m\u001b[1;34m'_id'\u001b[0m\u001b[1;33m]\u001b[0m\u001b[1;33m\u001b[0m\u001b[1;33m\u001b[0m\u001b[0m\n\u001b[0;32m     14\u001b[0m             \u001b[1;32mfor\u001b[0m \u001b[0mindex2\u001b[0m\u001b[1;33m,\u001b[0m \u001b[0mrow2\u001b[0m \u001b[1;32min\u001b[0m \u001b[0mc_indiv\u001b[0m\u001b[1;33m.\u001b[0m\u001b[0miterrows\u001b[0m\u001b[1;33m(\u001b[0m\u001b[1;33m)\u001b[0m\u001b[1;33m:\u001b[0m\u001b[1;33m\u001b[0m\u001b[1;33m\u001b[0m\u001b[0m\n",
      "\u001b[1;32mD:\\0-MSRP22\\NetworkCode\\lib\\site-packages\\pandas\\core\\ops\\common.py\u001b[0m in \u001b[0;36mnew_method\u001b[1;34m(self, other)\u001b[0m\n\u001b[0;32m     67\u001b[0m         \u001b[0mother\u001b[0m \u001b[1;33m=\u001b[0m \u001b[0mitem_from_zerodim\u001b[0m\u001b[1;33m(\u001b[0m\u001b[0mother\u001b[0m\u001b[1;33m)\u001b[0m\u001b[1;33m\u001b[0m\u001b[1;33m\u001b[0m\u001b[0m\n\u001b[0;32m     68\u001b[0m \u001b[1;33m\u001b[0m\u001b[0m\n\u001b[1;32m---> 69\u001b[1;33m         \u001b[1;32mreturn\u001b[0m \u001b[0mmethod\u001b[0m\u001b[1;33m(\u001b[0m\u001b[0mself\u001b[0m\u001b[1;33m,\u001b[0m \u001b[0mother\u001b[0m\u001b[1;33m)\u001b[0m\u001b[1;33m\u001b[0m\u001b[1;33m\u001b[0m\u001b[0m\n\u001b[0m\u001b[0;32m     70\u001b[0m \u001b[1;33m\u001b[0m\u001b[0m\n\u001b[0;32m     71\u001b[0m     \u001b[1;32mreturn\u001b[0m \u001b[0mnew_method\u001b[0m\u001b[1;33m\u001b[0m\u001b[1;33m\u001b[0m\u001b[0m\n",
      "\u001b[1;32mD:\\0-MSRP22\\NetworkCode\\lib\\site-packages\\pandas\\core\\arraylike.py\u001b[0m in \u001b[0;36m__eq__\u001b[1;34m(self, other)\u001b[0m\n\u001b[0;32m     30\u001b[0m     \u001b[1;33m@\u001b[0m\u001b[0munpack_zerodim_and_defer\u001b[0m\u001b[1;33m(\u001b[0m\u001b[1;34m\"__eq__\"\u001b[0m\u001b[1;33m)\u001b[0m\u001b[1;33m\u001b[0m\u001b[1;33m\u001b[0m\u001b[0m\n\u001b[0;32m     31\u001b[0m     \u001b[1;32mdef\u001b[0m \u001b[0m__eq__\u001b[0m\u001b[1;33m(\u001b[0m\u001b[0mself\u001b[0m\u001b[1;33m,\u001b[0m \u001b[0mother\u001b[0m\u001b[1;33m)\u001b[0m\u001b[1;33m:\u001b[0m\u001b[1;33m\u001b[0m\u001b[1;33m\u001b[0m\u001b[0m\n\u001b[1;32m---> 32\u001b[1;33m         \u001b[1;32mreturn\u001b[0m \u001b[0mself\u001b[0m\u001b[1;33m.\u001b[0m\u001b[0m_cmp_method\u001b[0m\u001b[1;33m(\u001b[0m\u001b[0mother\u001b[0m\u001b[1;33m,\u001b[0m \u001b[0moperator\u001b[0m\u001b[1;33m.\u001b[0m\u001b[0meq\u001b[0m\u001b[1;33m)\u001b[0m\u001b[1;33m\u001b[0m\u001b[1;33m\u001b[0m\u001b[0m\n\u001b[0m\u001b[0;32m     33\u001b[0m \u001b[1;33m\u001b[0m\u001b[0m\n\u001b[0;32m     34\u001b[0m     \u001b[1;33m@\u001b[0m\u001b[0munpack_zerodim_and_defer\u001b[0m\u001b[1;33m(\u001b[0m\u001b[1;34m\"__ne__\"\u001b[0m\u001b[1;33m)\u001b[0m\u001b[1;33m\u001b[0m\u001b[1;33m\u001b[0m\u001b[0m\n",
      "\u001b[1;32mD:\\0-MSRP22\\NetworkCode\\lib\\site-packages\\pandas\\core\\series.py\u001b[0m in \u001b[0;36m_cmp_method\u001b[1;34m(self, other, op)\u001b[0m\n\u001b[0;32m   5500\u001b[0m \u001b[1;33m\u001b[0m\u001b[0m\n\u001b[0;32m   5501\u001b[0m         \u001b[1;32mwith\u001b[0m \u001b[0mnp\u001b[0m\u001b[1;33m.\u001b[0m\u001b[0merrstate\u001b[0m\u001b[1;33m(\u001b[0m\u001b[0mall\u001b[0m\u001b[1;33m=\u001b[0m\u001b[1;34m\"ignore\"\u001b[0m\u001b[1;33m)\u001b[0m\u001b[1;33m:\u001b[0m\u001b[1;33m\u001b[0m\u001b[1;33m\u001b[0m\u001b[0m\n\u001b[1;32m-> 5502\u001b[1;33m             \u001b[0mres_values\u001b[0m \u001b[1;33m=\u001b[0m \u001b[0mops\u001b[0m\u001b[1;33m.\u001b[0m\u001b[0mcomparison_op\u001b[0m\u001b[1;33m(\u001b[0m\u001b[0mlvalues\u001b[0m\u001b[1;33m,\u001b[0m \u001b[0mrvalues\u001b[0m\u001b[1;33m,\u001b[0m \u001b[0mop\u001b[0m\u001b[1;33m)\u001b[0m\u001b[1;33m\u001b[0m\u001b[1;33m\u001b[0m\u001b[0m\n\u001b[0m\u001b[0;32m   5503\u001b[0m \u001b[1;33m\u001b[0m\u001b[0m\n\u001b[0;32m   5504\u001b[0m         \u001b[1;32mreturn\u001b[0m \u001b[0mself\u001b[0m\u001b[1;33m.\u001b[0m\u001b[0m_construct_result\u001b[0m\u001b[1;33m(\u001b[0m\u001b[0mres_values\u001b[0m\u001b[1;33m,\u001b[0m \u001b[0mname\u001b[0m\u001b[1;33m=\u001b[0m\u001b[0mres_name\u001b[0m\u001b[1;33m)\u001b[0m\u001b[1;33m\u001b[0m\u001b[1;33m\u001b[0m\u001b[0m\n",
      "\u001b[1;32mD:\\0-MSRP22\\NetworkCode\\lib\\site-packages\\pandas\\core\\ops\\array_ops.py\u001b[0m in \u001b[0;36mcomparison_op\u001b[1;34m(left, right, op)\u001b[0m\n\u001b[0;32m    282\u001b[0m \u001b[1;33m\u001b[0m\u001b[0m\n\u001b[0;32m    283\u001b[0m     \u001b[1;32melif\u001b[0m \u001b[0mis_object_dtype\u001b[0m\u001b[1;33m(\u001b[0m\u001b[0mlvalues\u001b[0m\u001b[1;33m.\u001b[0m\u001b[0mdtype\u001b[0m\u001b[1;33m)\u001b[0m \u001b[1;32mor\u001b[0m \u001b[0misinstance\u001b[0m\u001b[1;33m(\u001b[0m\u001b[0mrvalues\u001b[0m\u001b[1;33m,\u001b[0m \u001b[0mstr\u001b[0m\u001b[1;33m)\u001b[0m\u001b[1;33m:\u001b[0m\u001b[1;33m\u001b[0m\u001b[1;33m\u001b[0m\u001b[0m\n\u001b[1;32m--> 284\u001b[1;33m         \u001b[0mres_values\u001b[0m \u001b[1;33m=\u001b[0m \u001b[0mcomp_method_OBJECT_ARRAY\u001b[0m\u001b[1;33m(\u001b[0m\u001b[0mop\u001b[0m\u001b[1;33m,\u001b[0m \u001b[0mlvalues\u001b[0m\u001b[1;33m,\u001b[0m \u001b[0mrvalues\u001b[0m\u001b[1;33m)\u001b[0m\u001b[1;33m\u001b[0m\u001b[1;33m\u001b[0m\u001b[0m\n\u001b[0m\u001b[0;32m    285\u001b[0m \u001b[1;33m\u001b[0m\u001b[0m\n\u001b[0;32m    286\u001b[0m     \u001b[1;32melse\u001b[0m\u001b[1;33m:\u001b[0m\u001b[1;33m\u001b[0m\u001b[1;33m\u001b[0m\u001b[0m\n",
      "\u001b[1;32mD:\\0-MSRP22\\NetworkCode\\lib\\site-packages\\pandas\\core\\ops\\array_ops.py\u001b[0m in \u001b[0;36mcomp_method_OBJECT_ARRAY\u001b[1;34m(op, x, y)\u001b[0m\n\u001b[0;32m     72\u001b[0m     \u001b[1;32melse\u001b[0m\u001b[1;33m:\u001b[0m\u001b[1;33m\u001b[0m\u001b[1;33m\u001b[0m\u001b[0m\n\u001b[0;32m     73\u001b[0m         \u001b[0mresult\u001b[0m \u001b[1;33m=\u001b[0m \u001b[0mlibops\u001b[0m\u001b[1;33m.\u001b[0m\u001b[0mscalar_compare\u001b[0m\u001b[1;33m(\u001b[0m\u001b[0mx\u001b[0m\u001b[1;33m.\u001b[0m\u001b[0mravel\u001b[0m\u001b[1;33m(\u001b[0m\u001b[1;33m)\u001b[0m\u001b[1;33m,\u001b[0m \u001b[0my\u001b[0m\u001b[1;33m,\u001b[0m \u001b[0mop\u001b[0m\u001b[1;33m)\u001b[0m\u001b[1;33m\u001b[0m\u001b[1;33m\u001b[0m\u001b[0m\n\u001b[1;32m---> 74\u001b[1;33m     \u001b[1;32mreturn\u001b[0m \u001b[0mresult\u001b[0m\u001b[1;33m.\u001b[0m\u001b[0mreshape\u001b[0m\u001b[1;33m(\u001b[0m\u001b[0mx\u001b[0m\u001b[1;33m.\u001b[0m\u001b[0mshape\u001b[0m\u001b[1;33m)\u001b[0m\u001b[1;33m\u001b[0m\u001b[1;33m\u001b[0m\u001b[0m\n\u001b[0m\u001b[0;32m     75\u001b[0m \u001b[1;33m\u001b[0m\u001b[0m\n\u001b[0;32m     76\u001b[0m \u001b[1;33m\u001b[0m\u001b[0m\n",
      "\u001b[1;31mKeyboardInterrupt\u001b[0m: "
     ]
    }
   ],
   "source": [
    "corp2indiv(corp,indiv,100)"
   ]
  },
  {
   "cell_type": "code",
   "execution_count": 112,
   "metadata": {},
   "outputs": [
    {
     "name": "stdout",
     "output_type": "stream",
     "text": [
      "4905639\n"
     ]
    }
   ],
   "source": [
    "print(len(indiv))"
   ]
  },
  {
   "cell_type": "code",
   "execution_count": 5,
   "metadata": {
    "scrolled": true
   },
   "outputs": [
    {
     "name": "stdout",
     "output_type": "stream",
     "text": [
      "            PROP_ID            LOC_ID  BLDG_VAL  LAND_VAL  OTHER_VAL  \\\n",
      "0            D9 4 3  F_335507_2850670    111000     98900          0   \n",
      "1            D9 5 3  F_335433_2850987    140200     90500       6600   \n",
      "2           D9 6 14  F_335682_2851486    344900    184100       9200   \n",
      "3           E10 1 5  F_337304_2851580    375800    200900      18500   \n",
      "4          E10 2 23  F_336769_2852989         0     29500          0   \n",
      "...             ...               ...       ...       ...        ...   \n",
      "2536875  0104966006  F_781897_2959209    551200         0          0   \n",
      "2536876  0104972008  F_781998_2959152    536400         0          0   \n",
      "2536877  1904214002  F_756936_2929234    437900         0          0   \n",
      "2536878  1200335006  F_769944_2942985    436500         0          0   \n",
      "2536879  0903674006  F_766578_2944741    383700         0          0   \n",
      "\n",
      "         TOTAL_VAL    FY  LOT_SIZE   LS_DATE  LS_PRICE  ...          STYLE  \\\n",
      "0           209900  2021      0.39  19930802  106000.0  ...          RANCH   \n",
      "1           237300  2021      0.28  20120727  111750.0  ...          RANCH   \n",
      "2           538200  2021      0.75  19931105  275000.0  ...       SHOP CTR   \n",
      "3           595200  2021      0.91  20010713       1.0  ...     OFFICE-PRO   \n",
      "4            29500  2021      2.30  20120817  100199.0  ...           None   \n",
      "...            ...   ...       ...       ...       ...  ...            ...   \n",
      "2536875     551200  2020      0.00  20180330     100.0  ...       Semi-Det   \n",
      "2536876     536400  2020      0.00  20190404  675000.0  ...       Low Rise   \n",
      "2536877     437900  2020      0.00  20190322  590000.0  ...  Free Standing   \n",
      "2536878     436500  2020      0.00  20180413  465000.0  ...     Town House   \n",
      "2536879     383700  2020      0.00  20190528  540000.0  ...  Free Standing   \n",
      "\n",
      "        NUM_ROOMS LOT_UNITS TOWN_ID       MA_PROP_ID FULL_STR_STD STORIES_NUM  \\\n",
      "0             6.0         A       5      M005_D9 4 3         None        None   \n",
      "1             5.0         A       5      M005_D9 5 3         None        None   \n",
      "2             NaN         A       5     M005_D9 6 14         None        None   \n",
      "3             NaN         A       5     M005_E10 1 5         None        None   \n",
      "4             NaN         A       5    M005_E10 2 23         None        None   \n",
      "...           ...       ...     ...              ...          ...         ...   \n",
      "2536875       4.0         A      35  M035_0104966006         None        None   \n",
      "2536876       4.0         A      35  M035_0104972008         None        None   \n",
      "2536877       5.0         A      35  M035_1904214002         None        None   \n",
      "2536878       5.0         A      35  M035_1200335006         None        None   \n",
      "2536879       4.0         A      35  M035_0903674006         None        None   \n",
      "\n",
      "        STORIES  CAMA_ID geometry  \n",
      "0             1     2009     None  \n",
      "1             1     2026     None  \n",
      "2             1     2037     None  \n",
      "3             1     2062     None  \n",
      "4          None     2079     None  \n",
      "...         ...      ...      ...  \n",
      "2536875       1  1185873     None  \n",
      "2536876       1  1184688     None  \n",
      "2536877       1  1185899     None  \n",
      "2536878       1  1185907     None  \n",
      "2536879       1  1185923     None  \n",
      "\n",
      "[2536880 rows x 41 columns]\n"
     ]
    }
   ],
   "source": [
    "#process geodatabase\n",
    "l3_assess_geo = gpd.read_file(\"../MassGIS_L3_Parcels_gdb/MassGIS_L3_Parcels.gdb\", driver='FileGDB', layer=2) #L3_ASSESS\n",
    "l3_assess = pd.DataFrame(l3_assess_geo)\n",
    "print(l3_assess)"
   ]
  },
  {
   "cell_type": "code",
   "execution_count": 8,
   "metadata": {},
   "outputs": [
    {
     "name": "stdout",
     "output_type": "stream",
     "text": [
      "PROP_ID                   D9 4 3\n",
      "LOC_ID          F_335507_2850670\n",
      "BLDG_VAL                  111000\n",
      "LAND_VAL                   98900\n",
      "OTHER_VAL                      0\n",
      "TOTAL_VAL                 209900\n",
      "FY                          2021\n",
      "LOT_SIZE                    0.39\n",
      "LS_DATE                 19930802\n",
      "LS_PRICE                106000.0\n",
      "USE_CODE                     101\n",
      "SITE_ADDR         27 OVERLOOK DR\n",
      "ADDR_NUM                      27\n",
      "FULL_STR             OVERLOOK DR\n",
      "LOCATION                    None\n",
      "CITY               FEEDING HILLS\n",
      "ZIP                        01030\n",
      "OWNER1          MORRIS RAYMOND T\n",
      "OWN_ADDR          27 OVERLOOK DR\n",
      "OWN_CITY           FEEDING HILLS\n",
      "OWN_STATE                     MA\n",
      "OWN_ZIP               01030-2007\n",
      "OWN_CO                      None\n",
      "LS_BOOK                     8512\n",
      "LS_PAGE                      274\n",
      "REG_ID                      None\n",
      "ZONING                        AG\n",
      "YEAR_BUILT                1978.0\n",
      "BLD_AREA                  1092.0\n",
      "UNITS                        1.0\n",
      "RES_AREA                  1092.0\n",
      "STYLE                      RANCH\n",
      "NUM_ROOMS                    6.0\n",
      "LOT_UNITS                      A\n",
      "TOWN_ID                        5\n",
      "MA_PROP_ID           M005_D9 4 3\n",
      "FULL_STR_STD                None\n",
      "STORIES_NUM                 None\n",
      "STORIES                        1\n",
      "CAMA_ID                     2009\n",
      "geometry                    None\n",
      "Name: 0, dtype: object\n"
     ]
    }
   ],
   "source": [
    "print(l3_assess.loc[0,:])"
   ]
  },
  {
   "cell_type": "code",
   "execution_count": null,
   "metadata": {},
   "outputs": [],
   "source": [
    "# Parcel data from MassGIS Data\n",
    "# https://www.mass.gov/forms/massgis-request-statewide-parcel-data\n",
    "\n",
    "# Residential Land Use Codes from MA Dept of Revenue\n",
    "# https://www.mass.gov/files/documents/2016/08/wr/classificationcodebook.pdf\n",
    "# Codes are 101*-109*, 031*, and 013*\n",
    "# Often include suffixes (letters, zeroes or no character), thus regex\n",
    "\n",
    "USE_CODES = '^1[0-1][1-9]*?|^013*?|^031*?'"
   ]
  },
  {
   "cell_type": "code",
   "execution_count": null,
   "metadata": {},
   "outputs": [],
   "source": []
  }
 ],
 "metadata": {
  "kernelspec": {
   "display_name": "NetworkCode",
   "language": "python",
   "name": "networkcode"
  },
  "language_info": {
   "codemirror_mode": {
    "name": "ipython",
    "version": 3
   },
   "file_extension": ".py",
   "mimetype": "text/x-python",
   "name": "python",
   "nbconvert_exporter": "python",
   "pygments_lexer": "ipython3",
   "version": "3.7.9"
  },
  "vscode": {
   "interpreter": {
    "hash": "137c83b3478ffedff7431332c4108c29fc5733a37d136ef8c89fd7a45cc0790b"
   }
  }
 },
 "nbformat": 4,
 "nbformat_minor": 4
}
