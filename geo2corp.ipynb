{
 "cells": [
  {
   "cell_type": "code",
   "execution_count": 1,
   "metadata": {
    "executionInfo": {
     "elapsed": 1892,
     "status": "ok",
     "timestamp": 1656868994546,
     "user": {
      "displayName": "Yizhou Tan",
      "userId": "02431669335369619733"
     },
     "user_tz": 240
    },
    "id": "mAshP68jvnh7",
    "scrolled": false
   },
   "outputs": [],
   "source": [
    "import pandas as pd\n",
    "import fiona\n",
    "import geopandas as gpd\n",
    "from sqlalchemy import create_engine\n",
    "import numpy as np\n",
    "#import dedupe\n",
    "from dotenv import load_dotenv\n",
    "import os\n",
    "import pyArango\n",
    "import usaddress\n",
    "from usaddress import tag\n",
    "from scourgify import normalize_address_record\n",
    "import re\n",
    "import json"
   ]
  },
  {
   "cell_type": "code",
   "execution_count": 2,
   "metadata": {
    "executionInfo": {
     "elapsed": 14,
     "status": "ok",
     "timestamp": 1656868995457,
     "user": {
      "displayName": "Yizhou Tan",
      "userId": "02431669335369619733"
     },
     "user_tz": 240
    },
    "id": "W6XHklwDvnh9"
   },
   "outputs": [],
   "source": [
    "from pyArango.connection import *\n",
    "conn = Connection(username=\"root\", password=\"0505\")"
   ]
  },
  {
   "cell_type": "code",
   "execution_count": 3,
   "metadata": {
    "executionInfo": {
     "elapsed": 9,
     "status": "ok",
     "timestamp": 1656868996672,
     "user": {
      "displayName": "Yizhou Tan",
      "userId": "02431669335369619733"
     },
     "user_tz": 240
    },
    "id": "-rPnL-DZvnh-"
   },
   "outputs": [],
   "source": [
    "load_dotenv()\n",
    "PG_CONNECT = os.getenv(\"PG_CONNECT\")"
   ]
  },
  {
   "cell_type": "code",
   "execution_count": 4,
   "metadata": {
    "executionInfo": {
     "elapsed": 7,
     "status": "ok",
     "timestamp": 1656868997727,
     "user": {
      "displayName": "Yizhou Tan",
      "userId": "02431669335369619733"
     },
     "user_tz": 240
    },
    "id": "ZxT4nOcOvnh-"
   },
   "outputs": [],
   "source": [
    "# create arangoDB database, or open it if it already exists\n",
    "try:\n",
    "    corp_db = conn.createDatabase(name=\"corp_data\")\n",
    "    # from command line:\n",
    "    # arangoimport --file '''path to CorpData.csv''' --collection corp_data --create-collection true --type csv --server.database corp_data\n",
    "    # arangoimport --file '''path to CorpIndividualExport.csv''' --collection corp_individual --create-collection true --type csv --server.database corp_data\n",
    "\n",
    "except:\n",
    "    corp_db = conn[\"corp_data\"]"
   ]
  },
  {
   "cell_type": "code",
   "execution_count": 6,
   "metadata": {
    "executionInfo": {
     "elapsed": 19059,
     "status": "ok",
     "timestamp": 1656869018655,
     "user": {
      "displayName": "Yizhou Tan",
      "userId": "02431669335369619733"
     },
     "user_tz": 240
    },
    "id": "eQ840Tf5vnh_"
   },
   "outputs": [],
   "source": [
    "# extracting the values of the l3_assess collection\n",
    "val_aql = \"FOR x IN l3_assess RETURN x\"\n",
    "value_query_result = corp_db.AQLQuery(val_aql,rawResults=True, batchSize = 1000)\n",
    "col_value = {}\n",
    "ind_val = 0\n",
    "\n",
    "for value in value_query_result:\n",
    "    col_value[ind_val] = value\n",
    "    ind_val += 1\n",
    "    \n",
    "# create dataframe from dictionary of dictionaries\n",
    "l3 = pd.DataFrame.from_dict(data = col_value, orient = 'index')\n",
    "l3_arr = l3.to_numpy()"
   ]
  },
  {
   "cell_type": "markdown",
   "metadata": {
    "id": "JSLay-PYzSqp"
   },
   "source": [
    "_key                                        28345021\n",
    "_id                               l3_assess/28345021\n",
    "_rev                                     _eav8fHe---\n",
    "PROP_ID                                    287-17-25\n",
    "LOC_ID                              F_760330_2945596\n",
    "PropAddr      99 POND AVE 606 P584B, BROOKLINE 02445\n",
    "UNITS                                            1.0\n",
    "OWNER1                             RIVENSON HOWARD L\n",
    "OwnAddr      99 POND AVE, # 606, BROOKLINE, MA 02445\n",
    "TOTAL_VAL                                     636700\n",
    "FY                                              2021\n",
    "LS_DATE                               840412800000.0\n",
    "LS_PRICE                                    180000.0"
   ]
  },
  {
   "cell_type": "code",
   "execution_count": null,
   "metadata": {
    "id": "SMSyifW9vniD"
   },
   "outputs": [],
   "source": []
  }
 ],
 "metadata": {
  "accelerator": "GPU",
  "colab": {
   "collapsed_sections": [],
   "name": "landowner_network.ipynb",
   "provenance": []
  },
  "gpuClass": "standard",
  "kernelspec": {
   "display_name": "NetworkCode",
   "language": "python",
   "name": "networkcode"
  },
  "language_info": {
   "codemirror_mode": {
    "name": "ipython",
    "version": 3
   },
   "file_extension": ".py",
   "mimetype": "text/x-python",
   "name": "python",
   "nbconvert_exporter": "python",
   "pygments_lexer": "ipython3",
   "version": "3.7.9"
  },
  "vscode": {
   "interpreter": {
    "hash": "137c83b3478ffedff7431332c4108c29fc5733a37d136ef8c89fd7a45cc0790b"
   }
  }
 },
 "nbformat": 4,
 "nbformat_minor": 1
}
