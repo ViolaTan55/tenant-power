{
 "cells": [
  {
   "cell_type": "code",
   "execution_count": 1,
   "metadata": {
    "scrolled": false
   },
   "outputs": [],
   "source": [
    "import pandas as pd\n",
    "import fiona\n",
    "import geopandas as gpd\n",
    "from sqlalchemy import create_engine\n",
    "import numpy as np\n",
    "#import dedupe\n",
    "from dotenv import load_dotenv\n",
    "import os\n",
    "import pyArango\n",
    "import usaddress\n",
    "from usaddress import tag\n",
    "from scourgify import normalize_address_record\n",
    "import re\n",
    "import json"
   ]
  },
  {
   "cell_type": "code",
   "execution_count": 2,
   "metadata": {},
   "outputs": [],
   "source": [
    "from pyArango.connection import *\n",
    "conn = Connection(username=\"root\", password=\"0505\")"
   ]
  },
  {
   "cell_type": "code",
   "execution_count": 3,
   "metadata": {},
   "outputs": [],
   "source": [
    "load_dotenv()\n",
    "PG_CONNECT = os.getenv(\"PG_CONNECT\")"
   ]
  },
  {
   "cell_type": "code",
   "execution_count": 4,
   "metadata": {},
   "outputs": [],
   "source": [
    "# create arangoDB database, or open it if it already exists\n",
    "try:\n",
    "    corp_db = conn.createDatabase(name=\"corp_data\")\n",
    "    # from command line:\n",
    "    # arangoimport --file '''path to CorpData.csv''' --collection corp_data --create-collection true --type csv --server.database corp_data\n",
    "    # arangoimport --file '''path to CorpIndividualExport.csv''' --collection corp_individual --create-collection true --type csv --server.database corp_data\n",
    "\n",
    "except:\n",
    "    corp_db = conn[\"corp_data\"]"
   ]
  },
  {
   "cell_type": "code",
   "execution_count": null,
   "metadata": {},
   "outputs": [],
   "source": [
    "# arangoDB database structure:\n",
    "\n",
    "# corp_db: arangoDB database\n",
    "# corp_db[\"corp_data\"]: arangoDB collection\n",
    "# corp_db[\"corp_data\"][17777999]: arangoDB document (one piece of data, or one corporation)"
   ]
  },
  {
   "cell_type": "code",
   "execution_count": 5,
   "metadata": {},
   "outputs": [],
   "source": [
    "# extracting the values of the corp_data_processed collection\n",
    "val_aql = \"FOR x IN corp_data_processed RETURN x\"\n",
    "value_query_result = corp_db.AQLQuery(val_aql,rawResults=True, batchSize = 1000)\n",
    "col_value = {}\n",
    "ind_val = 0\n",
    "\n",
    "for value in value_query_result:\n",
    "    col_value[ind_val] = value\n",
    "    ind_val += 1\n",
    "    \n",
    "# create dataframe from dictionary of dictionaries\n",
    "corp = pd.DataFrame.from_dict(data = col_value, orient = 'index')"
   ]
  },
  {
   "cell_type": "code",
   "execution_count": 13,
   "metadata": {},
   "outputs": [],
   "source": [
    "# extracting the values of the indiv_data_processed collection\n",
    "indiv_aql = \"FOR x IN indiv_data_processed RETURN x\"\n",
    "indiv_query_result = corp_db.AQLQuery(indiv_aql,rawResults=True, batchSize = 1000)\n",
    "col_indiv = {}\n",
    "ind_indiv = 0\n",
    "\n",
    "for indiv in indiv_query_result:\n",
    "    col_indiv[ind_indiv] = indiv\n",
    "    ind_indiv += 1\n",
    "\n",
    "indiv = pd.DataFrame.from_dict(data = col_indiv, orient = 'index')"
   ]
  },
  {
   "cell_type": "code",
   "execution_count": null,
   "metadata": {},
   "outputs": [],
   "source": []
  },
  {
   "cell_type": "code",
   "execution_count": 6,
   "metadata": {
    "scrolled": true
   },
   "outputs": [
    {
     "name": "stdout",
     "output_type": "stream",
     "text": [
      "            PROP_ID            LOC_ID  BLDG_VAL  LAND_VAL  OTHER_VAL  \\\n",
      "0            D9 4 3  F_335507_2850670    111000     98900          0   \n",
      "1            D9 5 3  F_335433_2850987    140200     90500       6600   \n",
      "2           D9 6 14  F_335682_2851486    344900    184100       9200   \n",
      "3           E10 1 5  F_337304_2851580    375800    200900      18500   \n",
      "4          E10 2 23  F_336769_2852989         0     29500          0   \n",
      "...             ...               ...       ...       ...        ...   \n",
      "2536875  0104966006  F_781897_2959209    551200         0          0   \n",
      "2536876  0104972008  F_781998_2959152    536400         0          0   \n",
      "2536877  1904214002  F_756936_2929234    437900         0          0   \n",
      "2536878  1200335006  F_769944_2942985    436500         0          0   \n",
      "2536879  0903674006  F_766578_2944741    383700         0          0   \n",
      "\n",
      "         TOTAL_VAL    FY  LOT_SIZE   LS_DATE  LS_PRICE  ...          STYLE  \\\n",
      "0           209900  2021      0.39  19930802  106000.0  ...          RANCH   \n",
      "1           237300  2021      0.28  20120727  111750.0  ...          RANCH   \n",
      "2           538200  2021      0.75  19931105  275000.0  ...       SHOP CTR   \n",
      "3           595200  2021      0.91  20010713       1.0  ...     OFFICE-PRO   \n",
      "4            29500  2021      2.30  20120817  100199.0  ...           None   \n",
      "...            ...   ...       ...       ...       ...  ...            ...   \n",
      "2536875     551200  2020      0.00  20180330     100.0  ...       Semi-Det   \n",
      "2536876     536400  2020      0.00  20190404  675000.0  ...       Low Rise   \n",
      "2536877     437900  2020      0.00  20190322  590000.0  ...  Free Standing   \n",
      "2536878     436500  2020      0.00  20180413  465000.0  ...     Town House   \n",
      "2536879     383700  2020      0.00  20190528  540000.0  ...  Free Standing   \n",
      "\n",
      "        NUM_ROOMS LOT_UNITS TOWN_ID       MA_PROP_ID FULL_STR_STD STORIES_NUM  \\\n",
      "0             6.0         A       5      M005_D9 4 3         None        None   \n",
      "1             5.0         A       5      M005_D9 5 3         None        None   \n",
      "2             NaN         A       5     M005_D9 6 14         None        None   \n",
      "3             NaN         A       5     M005_E10 1 5         None        None   \n",
      "4             NaN         A       5    M005_E10 2 23         None        None   \n",
      "...           ...       ...     ...              ...          ...         ...   \n",
      "2536875       4.0         A      35  M035_0104966006         None        None   \n",
      "2536876       4.0         A      35  M035_0104972008         None        None   \n",
      "2536877       5.0         A      35  M035_1904214002         None        None   \n",
      "2536878       5.0         A      35  M035_1200335006         None        None   \n",
      "2536879       4.0         A      35  M035_0903674006         None        None   \n",
      "\n",
      "        STORIES  CAMA_ID geometry  \n",
      "0             1     2009     None  \n",
      "1             1     2026     None  \n",
      "2             1     2037     None  \n",
      "3             1     2062     None  \n",
      "4          None     2079     None  \n",
      "...         ...      ...      ...  \n",
      "2536875       1  1185873     None  \n",
      "2536876       1  1184688     None  \n",
      "2536877       1  1185899     None  \n",
      "2536878       1  1185907     None  \n",
      "2536879       1  1185923     None  \n",
      "\n",
      "[2536880 rows x 41 columns]\n"
     ]
    }
   ],
   "source": [
    "#process geodatabase\n",
    "l3_assess_geo = gpd.read_file(\"../MassGIS_L3_Parcels_gdb/MassGIS_L3_Parcels.gdb\", driver='FileGDB', layer=2) #L3_ASSESS\n",
    "l3_assess = pd.DataFrame(l3_assess_geo)\n",
    "print(l3_assess)"
   ]
  },
  {
   "cell_type": "code",
   "execution_count": null,
   "metadata": {},
   "outputs": [],
   "source": []
  },
  {
   "cell_type": "code",
   "execution_count": null,
   "metadata": {},
   "outputs": [],
   "source": [
    "#*****EXPERIMENTAL, DON'T RUN*****\n",
    "\n",
    "# Parcel data from MassGIS Data\n",
    "# https://www.mass.gov/forms/massgis-request-statewide-parcel-data\n",
    "\n",
    "# Residential Land Use Codes from MA Dept of Revenue\n",
    "# https://www.mass.gov/files/documents/2016/08/wr/classificationcodebook.pdf\n",
    "# Codes are 101*-109*, 031*, and 013*\n",
    "# Often include suffixes (letters, zeroes or no character), thus regex *?\n",
    "\n",
    "USE_CODES = '^1[0-1][1-9]*?|^013*?|^031*?'\n",
    "# BOS_CODES = '^R[1-4]$|^RC$|^RL$|^CD$|^A$'\n",
    "\n",
    "# medparse = lambda x: pd.datetime.strptime(x, '%Y%m%d')\n",
    "\n",
    "def read_res(file_dict):\n",
    "    df = pd.DataFrame()\n",
    "    for town, file, in file_dict.items():\n",
    "        town_df = gpd.read_file(file).drop('geometry', axis='columns')\n",
    "        town_df['town'] = town\n",
    "        df = df.append(town_df, ignore_index=True)\n",
    "    return df"
   ]
  }
 ],
 "metadata": {
  "kernelspec": {
   "display_name": "NetworkCode",
   "language": "python",
   "name": "networkcode"
  },
  "language_info": {
   "codemirror_mode": {
    "name": "ipython",
    "version": 3
   },
   "file_extension": ".py",
   "mimetype": "text/x-python",
   "name": "python",
   "nbconvert_exporter": "python",
   "pygments_lexer": "ipython3",
   "version": "3.7.9"
  },
  "vscode": {
   "interpreter": {
    "hash": "137c83b3478ffedff7431332c4108c29fc5733a37d136ef8c89fd7a45cc0790b"
   }
  }
 },
 "nbformat": 4,
 "nbformat_minor": 4
}
