{
 "cells": [
  {
   "cell_type": "code",
   "execution_count": 1,
   "metadata": {
    "executionInfo": {
     "elapsed": 1892,
     "status": "ok",
     "timestamp": 1656868994546,
     "user": {
      "displayName": "Yizhou Tan",
      "userId": "02431669335369619733"
     },
     "user_tz": 240
    },
    "id": "mAshP68jvnh7",
    "scrolled": false
   },
   "outputs": [],
   "source": [
    "import pandas as pd\n",
    "import fiona\n",
    "import geopandas as gpd\n",
    "from sqlalchemy import create_engine\n",
    "import numpy as np\n",
    "#import dedupe\n",
    "from dotenv import load_dotenv\n",
    "import os\n",
    "import pyArango\n",
    "import usaddress\n",
    "from usaddress import tag\n",
    "from scourgify import normalize_address_record\n",
    "import re\n",
    "import json"
   ]
  },
  {
   "cell_type": "code",
   "execution_count": 2,
   "metadata": {
    "executionInfo": {
     "elapsed": 14,
     "status": "ok",
     "timestamp": 1656868995457,
     "user": {
      "displayName": "Yizhou Tan",
      "userId": "02431669335369619733"
     },
     "user_tz": 240
    },
    "id": "W6XHklwDvnh9"
   },
   "outputs": [],
   "source": [
    "from pyArango.connection import *\n",
    "conn = Connection(username=\"root\", password=\"0505\")\n",
    "corp_db = conn[\"corp_data\"]"
   ]
  },
  {
   "cell_type": "code",
   "execution_count": 3,
   "metadata": {
    "executionInfo": {
     "elapsed": 9,
     "status": "ok",
     "timestamp": 1656868996672,
     "user": {
      "displayName": "Yizhou Tan",
      "userId": "02431669335369619733"
     },
     "user_tz": 240
    },
    "id": "-rPnL-DZvnh-"
   },
   "outputs": [],
   "source": [
    "load_dotenv()\n",
    "PG_CONNECT = os.getenv(\"PG_CONNECT\")"
   ]
  },
  {
   "cell_type": "code",
   "execution_count": 6,
   "metadata": {
    "executionInfo": {
     "elapsed": 19059,
     "status": "ok",
     "timestamp": 1656869018655,
     "user": {
      "displayName": "Yizhou Tan",
      "userId": "02431669335369619733"
     },
     "user_tz": 240
    },
    "id": "eQ840Tf5vnh_"
   },
   "outputs": [],
   "source": [
    "# extracting the keys of the l3_assess collection\n",
    "key_aql = \"FOR x IN l3_assess RETURN x._key\"\n",
    "key_query_result = corp_db.AQLQuery(key_aql,rawResults=True, batchSize = 1000)\n",
    "keys = []\n",
    "\n",
    "for key in key_query_result:\n",
    "    keys.append(key)"
   ]
  },
  {
   "cell_type": "code",
   "execution_count": 14,
   "metadata": {},
   "outputs": [
    {
     "name": "stdout",
     "output_type": "stream",
     "text": [
      "[]\n",
      "[ArangoEdge '_id: geo2corp/30431374, _key: 30431374, _rev: _eb_OKfW---, _to: corp_data_processed/17794168, _from: l3_assess/28345022': <store: {'type': 'geo2corp/address'}>, ArangoEdge '_id: geo2corp/30431376, _key: 30431376, _rev: _eb_OKfa---, _to: corp_data_processed/18038480, _from: l3_assess/28345022': <store: {'type': 'geo2corp/address'}>, ArangoEdge '_id: geo2corp/30431378, _key: 30431378, _rev: _eb_OKfe---, _to: corp_data_processed/17943214, _from: l3_assess/28345022': <store: {'type': 'geo2corp/address'}>, ArangoEdge '_id: geo2corp/30431380, _key: 30431380, _rev: _eb_OKfm---, _to: corp_data_processed/17844839, _from: l3_assess/28345022': <store: {'type': 'geo2corp/address'}>, ArangoEdge '_id: geo2corp/30431382, _key: 30431382, _rev: _eb_OKfq---, _to: corp_data_processed/17885222, _from: l3_assess/28345022': <store: {'type': 'geo2corp/address'}>, ArangoEdge '_id: geo2corp/30431384, _key: 30431384, _rev: _eb_OKfy---, _to: corp_data_processed/17810670, _from: l3_assess/28345022': <store: {'type': 'geo2corp/address'}>, ArangoEdge '_id: geo2corp/30431386, _key: 30431386, _rev: _eb_OKf2---, _to: corp_data_processed/18055089, _from: l3_assess/28345022': <store: {'type': 'geo2corp/address'}>, ArangoEdge '_id: geo2corp/30431388, _key: 30431388, _rev: _eb_OKg----, _to: corp_data_processed/18218851, _from: l3_assess/28345022': <store: {'type': 'geo2corp/address'}>, ArangoEdge '_id: geo2corp/30431390, _key: 30431390, _rev: _eb_OKgC---, _to: corp_data_processed/18090490, _from: l3_assess/28345022': <store: {'type': 'geo2corp/address'}>, ArangoEdge '_id: geo2corp/30431392, _key: 30431392, _rev: _eb_OKgG---, _to: corp_data_processed/17817718, _from: l3_assess/28345022': <store: {'type': 'geo2corp/address'}>, ArangoEdge '_id: geo2corp/30431394, _key: 30431394, _rev: _eb_OKgO---, _to: corp_data_processed/18199302, _from: l3_assess/28345022': <store: {'type': 'geo2corp/address'}>, ArangoEdge '_id: geo2corp/30431396, _key: 30431396, _rev: _eb_OKgS---, _to: corp_data_processed/18201644, _from: l3_assess/28345022': <store: {'type': 'geo2corp/address'}>, ArangoEdge '_id: geo2corp/30431398, _key: 30431398, _rev: _eb_OKga---, _to: corp_data_processed/18301171, _from: l3_assess/28345022': <store: {'type': 'geo2corp/address'}>, ArangoEdge '_id: geo2corp/30431400, _key: 30431400, _rev: _eb_OKge---, _to: corp_data_processed/18301597, _from: l3_assess/28345022': <store: {'type': 'geo2corp/address'}>, ArangoEdge '_id: geo2corp/30431402, _key: 30431402, _rev: _eb_OKgm---, _to: corp_data_processed/18315143, _from: l3_assess/28345022': <store: {'type': 'geo2corp/address'}>, ArangoEdge '_id: geo2corp/30431404, _key: 30431404, _rev: _eb_OKgq---, _to: corp_data_processed/18557542, _from: l3_assess/28345022': <store: {'type': 'geo2corp/address'}>, ArangoEdge '_id: geo2corp/30431406, _key: 30431406, _rev: _eb_OKgy---, _to: corp_data_processed/18647262, _from: l3_assess/28345022': <store: {'type': 'geo2corp/address'}>, ArangoEdge '_id: geo2corp/30431408, _key: 30431408, _rev: _eb_OKg2---, _to: corp_data_processed/18648981, _from: l3_assess/28345022': <store: {'type': 'geo2corp/address'}>, ArangoEdge '_id: geo2corp/30431410, _key: 30431410, _rev: _eb_OKg6---, _to: corp_data_processed/18650555, _from: l3_assess/28345022': <store: {'type': 'geo2corp/address'}>, ArangoEdge '_id: geo2corp/30431412, _key: 30431412, _rev: _eb_OKhC---, _to: corp_data_processed/18466388, _from: l3_assess/28345022': <store: {'type': 'geo2corp/address'}>, ArangoEdge '_id: geo2corp/30431414, _key: 30431414, _rev: _eb_OKhG---, _to: corp_data_processed/18467018, _from: l3_assess/28345022': <store: {'type': 'geo2corp/address'}>, ArangoEdge '_id: geo2corp/30431416, _key: 30431416, _rev: _eb_OKhO---, _to: corp_data_processed/18534933, _from: l3_assess/28345022': <store: {'type': 'geo2corp/address'}>, ArangoEdge '_id: geo2corp/30431418, _key: 30431418, _rev: _eb_OKhW---, _to: corp_data_processed/18807834, _from: l3_assess/28345022': <store: {'type': 'geo2corp/address'}>, ArangoEdge '_id: geo2corp/30431420, _key: 30431420, _rev: _eb_OKha---, _to: corp_data_processed/18603672, _from: l3_assess/28345022': <store: {'type': 'geo2corp/address'}>, ArangoEdge '_id: geo2corp/30431422, _key: 30431422, _rev: _eb_OKhi---, _to: corp_data_processed/18662275, _from: l3_assess/28345022': <store: {'type': 'geo2corp/address'}>, ArangoEdge '_id: geo2corp/30431424, _key: 30431424, _rev: _eb_OKhm---, _to: corp_data_processed/18905417, _from: l3_assess/28345022': <store: {'type': 'geo2corp/address'}>, ArangoEdge '_id: geo2corp/30431426, _key: 30431426, _rev: _eb_OKhq---, _to: corp_data_processed/18874984, _from: l3_assess/28345022': <store: {'type': 'geo2corp/address'}>, ArangoEdge '_id: geo2corp/30431428, _key: 30431428, _rev: _eb_OKhy---, _to: corp_data_processed/18875116, _from: l3_assess/28345022': <store: {'type': 'geo2corp/address'}>, ArangoEdge '_id: geo2corp/30431430, _key: 30431430, _rev: _eb_OKh2---, _to: corp_data_processed/18752255, _from: l3_assess/28345022': <store: {'type': 'geo2corp/address'}>, ArangoEdge '_id: geo2corp/30431432, _key: 30431432, _rev: _eb_OKi----, _to: corp_data_processed/18786990, _from: l3_assess/28345022': <store: {'type': 'geo2corp/address'}>, ArangoEdge '_id: geo2corp/30431434, _key: 30431434, _rev: _eb_OKiC---, _to: corp_data_processed/18975972, _from: l3_assess/28345022': <store: {'type': 'geo2corp/address'}>, ArangoEdge '_id: geo2corp/30431436, _key: 30431436, _rev: _eb_OKiG---, _to: corp_data_processed/18733030, _from: l3_assess/28345022': <store: {'type': 'geo2corp/address'}>, ArangoEdge '_id: geo2corp/30431438, _key: 30431438, _rev: _eb_OKiO---, _to: corp_data_processed/19065734, _from: l3_assess/28345022': <store: {'type': 'geo2corp/address'}>, ArangoEdge '_id: geo2corp/30431440, _key: 30431440, _rev: _eb_OKiS---, _to: corp_data_processed/19009200, _from: l3_assess/28345022': <store: {'type': 'geo2corp/address'}>, ArangoEdge '_id: geo2corp/30431442, _key: 30431442, _rev: _eb_OKiW---, _to: corp_data_processed/19015422, _from: l3_assess/28345022': <store: {'type': 'geo2corp/address'}>, ArangoEdge '_id: geo2corp/30431444, _key: 30431444, _rev: _eb_OKie---, _to: corp_data_processed/18891163, _from: l3_assess/28345022': <store: {'type': 'geo2corp/address'}>, ArangoEdge '_id: geo2corp/30431446, _key: 30431446, _rev: _eb_OKim---, _to: corp_data_processed/18959372, _from: l3_assess/28345022': <store: {'type': 'geo2corp/address'}>, ArangoEdge '_id: geo2corp/30431448, _key: 30431448, _rev: _eb_OKiq---, _to: corp_data_processed/19140947, _from: l3_assess/28345022': <store: {'type': 'geo2corp/address'}>, ArangoEdge '_id: geo2corp/30431450, _key: 30431450, _rev: _eb_OKiy---, _to: corp_data_processed/19000364, _from: l3_assess/28345022': <store: {'type': 'geo2corp/address'}>, ArangoEdge '_id: geo2corp/30431452, _key: 30431452, _rev: _eb_OKi6---, _to: corp_data_processed/19063818, _from: l3_assess/28345022': <store: {'type': 'geo2corp/address'}>]\n",
      "[]\n",
      "[]\n",
      "[]\n",
      "[]\n",
      "[]\n",
      "[]\n",
      "[]\n",
      "[]\n",
      "[ArangoEdge '_id: geo2corp/30431454, _key: 30431454, _rev: _eb_OK5q---, _to: corp_data_processed/18480863, _from: l3_assess/28345031': <store: {'type': 'geo2corp/address'}>]\n",
      "[ArangoEdge '_id: geo2corp/30431456, _key: 30431456, _rev: _eb_OK8i---, _to: corp_data_processed/18950685, _from: l3_assess/28345032': <store: {'type': 'geo2corp/address'}>]\n",
      "[ArangoEdge '_id: geo2corp/30431458, _key: 30431458, _rev: _eb_OL_e---, _to: corp_data_processed/18366334, _from: l3_assess/28345033': <store: {'type': 'geo2corp/address'}>, ArangoEdge '_id: geo2corp/30431460, _key: 30431460, _rev: _eb_OL_i---, _to: corp_data_processed/18552907, _from: l3_assess/28345033': <store: {'type': 'geo2corp/address'}>]\n",
      "[ArangoEdge '_id: geo2corp/30431462, _key: 30431462, _rev: _eb_OLCq---, _to: corp_data_processed/17919676, _from: l3_assess/28345034': <store: {'type': 'geo2corp/address'}>, ArangoEdge '_id: geo2corp/30431464, _key: 30431464, _rev: _eb_OLCu---, _to: corp_data_processed/19034196, _from: l3_assess/28345034': <store: {'type': 'geo2corp/address'}>]\n",
      "[ArangoEdge '_id: geo2corp/30431466, _key: 30431466, _rev: _eb_OLFq---, _to: corp_data_processed/18026247, _from: l3_assess/28345035': <store: {'type': 'geo2corp/address'}>, ArangoEdge '_id: geo2corp/30431468, _key: 30431468, _rev: _eb_OLFy---, _to: corp_data_processed/19084431, _from: l3_assess/28345035': <store: {'type': 'geo2corp/address'}>]\n",
      "[ArangoEdge '_id: geo2corp/30431474, _key: 30431474, _rev: _eb_OLIq---, _to: corp_data_processed/18026247, _from: l3_assess/28345036': <store: {'type': 'geo2corp/address'}>, ArangoEdge '_id: geo2corp/30431476, _key: 30431476, _rev: _eb_OLIy---, _to: corp_data_processed/19084431, _from: l3_assess/28345036': <store: {'type': 'geo2corp/address'}>]\n",
      "[ArangoEdge '_id: geo2corp/30431478, _key: 30431478, _rev: _eb_OLLq---, _to: corp_data_processed/18570081, _from: l3_assess/28345037': <store: {'type': 'geo2corp/address'}>, ArangoEdge '_id: geo2corp/30431480, _key: 30431480, _rev: _eb_OLLy---, _to: corp_data_processed/18637037, _from: l3_assess/28345037': <store: {'type': 'geo2corp/address'}>]\n",
      "[ArangoEdge '_id: geo2corp/30431482, _key: 30431482, _rev: _eb_OLOK---, _to: corp_data_processed/17847196, _from: l3_assess/28345038': <store: {'type': 'geo2corp/address'}>, ArangoEdge '_id: geo2corp/30431484, _key: 30431484, _rev: _eb_OLOO---, _to: corp_data_processed/18844567, _from: l3_assess/28345038': <store: {'type': 'geo2corp/address'}>]\n",
      "[]\n",
      "[]\n"
     ]
    }
   ],
   "source": [
    "for i in keys[0:20]:\n",
    "    prop = corp_db[\"l3_assess\"].fetchDocument(i)\n",
    "    print(corp_db[\"geo2corp\"].getEdges(prop))"
   ]
  },
  {
   "cell_type": "code",
   "execution_count": 22,
   "metadata": {
    "executionInfo": {
     "elapsed": 19059,
     "status": "ok",
     "timestamp": 1656869018655,
     "user": {
      "displayName": "Yizhou Tan",
      "userId": "02431669335369619733"
     },
     "user_tz": 240
    },
    "id": "eQ840Tf5vnh_"
   },
   "outputs": [],
   "source": [
    "# extracting the keys of the l3_assess collection\n",
    "key_aql = \"FOR x IN corp_data_processed RETURN x._key\"\n",
    "key_query_result = corp_db.AQLQuery(key_aql,rawResults=True, batchSize = 1000)\n",
    "corp_keys = []\n",
    "\n",
    "for key in key_query_result:\n",
    "    corp_keys.append(key)"
   ]
  },
  {
   "cell_type": "code",
   "execution_count": 62,
   "metadata": {},
   "outputs": [
    {
     "name": "stdout",
     "output_type": "stream",
     "text": [
      "corp ArangoDoc '_id: corp_data_processed/17778062, _key: 17778062, _rev: _eZCy3Xa--E': <store: {'DataID': '00v62r', 'EntityTypeDescriptor': 'Domestic Profit Corporation', 'EntityName': 'PEARTREE CLEANING SERVICES INC', 'EntityAddr': '15 SYDNEY DR, HYANNIS, MA 02601', 'AgentName': 'NELSIMAR PEREIRA', 'AgentAddr': '15 SYDNEY DR, HYANNIS, MA 02601'}>\n",
      "\n",
      "\n",
      "shells [ArangoDoc '_id: corp_data_processed/17778062, _key: 17778062, _rev: _eZCy3Xa--E': <store: {'DataID': '00v62r', 'EntityTypeDescriptor': 'Domestic Profit Corporation', 'EntityName': 'PEARTREE CLEANING SERVICES INC', 'EntityAddr': '15 SYDNEY DR, HYANNIS, MA 02601', 'AgentName': 'NELSIMAR PEREIRA', 'AgentAddr': '15 SYDNEY DR, HYANNIS, MA 02601'}>]\n",
      "\n",
      "\n",
      "corp ArangoDoc '_id: corp_data_processed/17778063, _key: 17778063, _rev: _eZCy3Xa--F': <store: {'DataID': '00000r', 'EntityTypeDescriptor': 'Domestic Limited Liability Company (LLC)', 'EntityName': 'BACK 9 CLUB LLC THE', 'EntityAddr': '17 HERITAGE HILL DR, LAKEVILLE, MA 02347', 'AgentName': 'MARK WHITE', 'AgentAddr': '867 MIDDLE RD, ACUSHNET, MA 02743'}>\n",
      "\n",
      "\n",
      "shells [ArangoDoc '_id: corp_data_processed/17778063, _key: 17778063, _rev: _eZCy3Xa--F': <store: {'DataID': '00000r', 'EntityTypeDescriptor': 'Domestic Limited Liability Company (LLC)', 'EntityName': 'BACK 9 CLUB LLC THE', 'EntityAddr': '17 HERITAGE HILL DR, LAKEVILLE, MA 02347', 'AgentName': 'MARK WHITE', 'AgentAddr': '867 MIDDLE RD, ACUSHNET, MA 02743'}>]\n",
      "\n",
      "\n",
      "corp ArangoDoc '_id: corp_data_processed/17778064, _key: 17778064, _rev: _eZCy3Xa--G': <store: {'DataID': '00000s', 'EntityTypeDescriptor': 'Domestic Profit Corporation', 'EntityName': 'HENNINGER ENTERPRISES INCORPORATED', 'EntityAddr': '10 MILL POND LN, DUXBURY, MA 02332', 'AgentName': 'TERRY HENNINGER', 'AgentAddr': '10 MILL POND LN, DUXBURY, MA 02332'}>\n",
      "\n",
      "\n",
      "shells [ArangoDoc '_id: corp_data_processed/17778064, _key: 17778064, _rev: _eZCy3Xa--G': <store: {'DataID': '00000s', 'EntityTypeDescriptor': 'Domestic Profit Corporation', 'EntityName': 'HENNINGER ENTERPRISES INCORPORATED', 'EntityAddr': '10 MILL POND LN, DUXBURY, MA 02332', 'AgentName': 'TERRY HENNINGER', 'AgentAddr': '10 MILL POND LN, DUXBURY, MA 02332'}>]\n",
      "\n",
      "\n",
      "corp ArangoDoc '_id: corp_data_processed/17778065, _key: 17778065, _rev: _eZCy3Xa--H': <store: {'DataID': '00000t', 'EntityTypeDescriptor': 'Domestic Limited Liability Company (LLC)', 'EntityName': 'PEAK NATURAL HEALTH PARTNERS LLC', 'EntityAddr': 'ONE DUNDEE PARK, STE 1 & 2, ANDOVER, MA 01810', 'AgentName': 'JILL COOPER KENNEY', 'AgentAddr': '46 MELROSE ST, ARLINGTON, MA 02474'}>\n",
      "\n",
      "\n",
      "shells [ArangoDoc '_id: corp_data_processed/17778065, _key: 17778065, _rev: _eZCy3Xa--H': <store: {'DataID': '00000t', 'EntityTypeDescriptor': 'Domestic Limited Liability Company (LLC)', 'EntityName': 'PEAK NATURAL HEALTH PARTNERS LLC', 'EntityAddr': 'ONE DUNDEE PARK, STE 1 & 2, ANDOVER, MA 01810', 'AgentName': 'JILL COOPER KENNEY', 'AgentAddr': '46 MELROSE ST, ARLINGTON, MA 02474'}>]\n",
      "\n",
      "\n",
      "corp ArangoDoc '_id: corp_data_processed/17778066, _key: 17778066, _rev: _eZCy3Xa--I': <store: {'DataID': '00000u', 'EntityTypeDescriptor': 'Domestic Limited Liability Company (LLC)', 'EntityName': 'MIDDLE POND DEVELOPMENT LLC', 'EntityAddr': '826 SOUTHBRIDGE ST, STE 100, AUBURN, MA 01501', 'AgentName': 'LAWRENCE A BRODEUR ESQ', 'AgentAddr': '38 FRONT ST, STE 300, WORCESTER, MA 01608'}>\n",
      "\n",
      "\n",
      "shells [ArangoDoc '_id: corp_data_processed/17778066, _key: 17778066, _rev: _eZCy3Xa--I': <store: {'DataID': '00000u', 'EntityTypeDescriptor': 'Domestic Limited Liability Company (LLC)', 'EntityName': 'MIDDLE POND DEVELOPMENT LLC', 'EntityAddr': '826 SOUTHBRIDGE ST, STE 100, AUBURN, MA 01501', 'AgentName': 'LAWRENCE A BRODEUR ESQ', 'AgentAddr': '38 FRONT ST, STE 300, WORCESTER, MA 01608'}>]\n",
      "\n",
      "\n",
      "corp ArangoDoc '_id: corp_data_processed/17778072, _key: 17778072, _rev: _eZCy3Xa--J': <store: {'DataID': '000011', 'EntityTypeDescriptor': 'Domestic Limited Liability Company (LLC)', 'EntityName': '145 OLD WASHINGTON STREET LLC', 'EntityAddr': '1717 MAIN STREET, P.O. BOX 239, NORTH MARSHFIELD, MA 02059', 'AgentName': 'MICHAEL LILLY', 'AgentAddr': '1717 MAIN STREET, P.O. BOX 239, NORTH MARSHFIELD, MA 02059'}>\n",
      "\n",
      "\n",
      "shells [ArangoDoc '_id: corp_data_processed/17778072, _key: 17778072, _rev: _eZCy3Xa--J': <store: {'DataID': '000011', 'EntityTypeDescriptor': 'Domestic Limited Liability Company (LLC)', 'EntityName': '145 OLD WASHINGTON STREET LLC', 'EntityAddr': '1717 MAIN STREET, P.O. BOX 239, NORTH MARSHFIELD, MA 02059', 'AgentName': 'MICHAEL LILLY', 'AgentAddr': '1717 MAIN STREET, P.O. BOX 239, NORTH MARSHFIELD, MA 02059'}>]\n",
      "\n",
      "\n",
      "corp ArangoDoc '_id: corp_data_processed/17778074, _key: 17778074, _rev: _eZCy3Xa--K': <store: {'DataID': '00ueq2', 'EntityTypeDescriptor': 'Domestic Profit Corporation', 'EntityName': 'SALON 3 INC', 'EntityAddr': '259 TALBOT AVE, DORCHESTER, MA 02124', 'AgentName': 'SHEENA GRANT', 'AgentAddr': '259 TALBOT AVE, DORCHESTER, MA 02124'}>\n",
      "\n",
      "\n",
      "shells [ArangoDoc '_id: corp_data_processed/17778074, _key: 17778074, _rev: _eZCy3Xa--K': <store: {'DataID': '00ueq2', 'EntityTypeDescriptor': 'Domestic Profit Corporation', 'EntityName': 'SALON 3 INC', 'EntityAddr': '259 TALBOT AVE, DORCHESTER, MA 02124', 'AgentName': 'SHEENA GRANT', 'AgentAddr': '259 TALBOT AVE, DORCHESTER, MA 02124'}>]\n",
      "\n",
      "\n",
      "corp ArangoDoc '_id: corp_data_processed/17778077, _key: 17778077, _rev: _eZCy3Xa--L': <store: {'DataID': '000015', 'EntityTypeDescriptor': 'Domestic Profit Corporation', 'EntityName': 'TURLA CONSTRUCTION COMPANY', 'EntityAddr': '6 EMERSON LN, MIDDLETON, MA 01949', 'AgentName': 'MARK TURLA', 'AgentAddr': '6 EMERSON LN, MIDDLETON, MA 01949'}>\n",
      "\n",
      "\n",
      "shells [ArangoDoc '_id: corp_data_processed/17778077, _key: 17778077, _rev: _eZCy3Xa--L': <store: {'DataID': '000015', 'EntityTypeDescriptor': 'Domestic Profit Corporation', 'EntityName': 'TURLA CONSTRUCTION COMPANY', 'EntityAddr': '6 EMERSON LN, MIDDLETON, MA 01949', 'AgentName': 'MARK TURLA', 'AgentAddr': '6 EMERSON LN, MIDDLETON, MA 01949'}>]\n",
      "\n",
      "\n",
      "corp ArangoDoc '_id: corp_data_processed/17778078, _key: 17778078, _rev: _eZCy3Xa--M': <store: {'DataID': '00rmwk', 'EntityTypeDescriptor': 'Domestic Limited Liability Company (LLC)', 'EntityName': 'COX REAL ESTATE LLC', 'EntityAddr': '69 E MAIN ST, WESTBOROUGH, MA 01581', 'AgentName': 'JAY COX', 'AgentAddr': '69 E MAIN ST, WESTBOROUGH, MA 01581'}>\n",
      "\n",
      "\n",
      "shells [ArangoDoc '_id: corp_data_processed/17778078, _key: 17778078, _rev: _eZCy3Xa--M': <store: {'DataID': '00rmwk', 'EntityTypeDescriptor': 'Domestic Limited Liability Company (LLC)', 'EntityName': 'COX REAL ESTATE LLC', 'EntityAddr': '69 E MAIN ST, WESTBOROUGH, MA 01581', 'AgentName': 'JAY COX', 'AgentAddr': '69 E MAIN ST, WESTBOROUGH, MA 01581'}>]\n",
      "\n",
      "\n",
      "corp ArangoDoc '_id: corp_data_processed/17778083, _key: 17778083, _rev: _eZCy3Xa--N': <store: {'DataID': '00001a', 'EntityTypeDescriptor': 'Domestic Limited Liability Company (LLC)', 'EntityName': 'TANNERY III LLC', 'EntityAddr': '18 CROWNINSHIELD ST, C/O CROWNINSHIELD MANAGEMENT CORPORATION PEABODY, MA 01960', 'AgentName': 'DEBORAH COLLIER COMINS', 'AgentAddr': '18 CROWNINSHIELD ST, PEABODY, MA 01960'}>\n",
      "\n",
      "\n",
      "shells [ArangoDoc '_id: corp_data_processed/17778083, _key: 17778083, _rev: _eZCy3Xa--N': <store: {'DataID': '00001a', 'EntityTypeDescriptor': 'Domestic Limited Liability Company (LLC)', 'EntityName': 'TANNERY III LLC', 'EntityAddr': '18 CROWNINSHIELD ST, C/O CROWNINSHIELD MANAGEMENT CORPORATION PEABODY, MA 01960', 'AgentName': 'DEBORAH COLLIER COMINS', 'AgentAddr': '18 CROWNINSHIELD ST, PEABODY, MA 01960'}>]\n",
      "\n",
      "\n"
     ]
    }
   ],
   "source": [
    "for i in corp_keys[60:70]:\n",
    "    corp = corp_db[\"corp_data_processed\"].fetchDocument(i)\n",
    "    edges = corp_db[\"corp2indiv\"].getEdges(corp)\n",
    "    print(\"corp\", corp)\n",
    "    print(\"\\n\")\n",
    "    indivs = []\n",
    "    shells = []\n",
    "    \n",
    "    for edge in edges:\n",
    "        ind = edge._to[21:]\n",
    "        indiv = corp_db[\"indiv_data_processed\"].fetchDocument(ind)\n",
    "        indivs.append(indiv)\n",
    "        \n",
    "        for indiv_edge in indiv_edges:\n",
    "            shell_ind = indiv_edge._from[20:]\n",
    "            shell = corp_db[\"corp_data_processed\"].fetchDocument(shell_ind)\n",
    "            if not in_vertices(shell,shells):\n",
    "                shells.append(shell)\n",
    "             \n",
    "    \n",
    "    print(\"shells\", shells)\n",
    "    print(\"\\n\")"
   ]
  },
  {
   "cell_type": "code",
   "execution_count": 52,
   "metadata": {},
   "outputs": [],
   "source": [
    "def in_vertices(shell,shells):\n",
    "    for i in shells:\n",
    "        if shell._key == i._key:\n",
    "            return True\n",
    "    return False"
   ]
  },
  {
   "cell_type": "code",
   "execution_count": 51,
   "metadata": {},
   "outputs": [
    {
     "name": "stdout",
     "output_type": "stream",
     "text": [
      "corp_data_processed/17778000\n"
     ]
    }
   ],
   "source": [
    "print(shells[0]._id)"
   ]
  },
  {
   "cell_type": "code",
   "execution_count": null,
   "metadata": {},
   "outputs": [],
   "source": []
  }
 ],
 "metadata": {
  "accelerator": "GPU",
  "colab": {
   "collapsed_sections": [],
   "name": "landowner_network.ipynb",
   "provenance": []
  },
  "gpuClass": "standard",
  "kernelspec": {
   "display_name": "NetworkCode",
   "language": "python",
   "name": "networkcode"
  },
  "language_info": {
   "codemirror_mode": {
    "name": "ipython",
    "version": 3
   },
   "file_extension": ".py",
   "mimetype": "text/x-python",
   "name": "python",
   "nbconvert_exporter": "python",
   "pygments_lexer": "ipython3",
   "version": "3.7.9"
  },
  "vscode": {
   "interpreter": {
    "hash": "137c83b3478ffedff7431332c4108c29fc5733a37d136ef8c89fd7a45cc0790b"
   }
  }
 },
 "nbformat": 4,
 "nbformat_minor": 1
}
