{
 "cells": [
  {
   "cell_type": "code",
   "execution_count": 1,
   "metadata": {
    "executionInfo": {
     "elapsed": 1892,
     "status": "ok",
     "timestamp": 1656868994546,
     "user": {
      "displayName": "Yizhou Tan",
      "userId": "02431669335369619733"
     },
     "user_tz": 240
    },
    "id": "mAshP68jvnh7",
    "scrolled": false
   },
   "outputs": [],
   "source": [
    "import pandas as pd\n",
    "import fiona\n",
    "import geopandas as gpd\n",
    "from sqlalchemy import create_engine\n",
    "import numpy as np\n",
    "#import dedupe\n",
    "from dotenv import load_dotenv\n",
    "import os\n",
    "import pyArango\n",
    "import usaddress\n",
    "from usaddress import tag\n",
    "from scourgify import normalize_address_record\n",
    "import re\n",
    "import json"
   ]
  },
  {
   "cell_type": "code",
   "execution_count": 2,
   "metadata": {
    "executionInfo": {
     "elapsed": 14,
     "status": "ok",
     "timestamp": 1656868995457,
     "user": {
      "displayName": "Yizhou Tan",
      "userId": "02431669335369619733"
     },
     "user_tz": 240
    },
    "id": "W6XHklwDvnh9"
   },
   "outputs": [],
   "source": [
    "from pyArango.connection import *\n",
    "conn = Connection(username=\"root\", password=\"0505\")\n",
    "corp_db = conn[\"corp_data\"]"
   ]
  },
  {
   "cell_type": "code",
   "execution_count": 3,
   "metadata": {
    "executionInfo": {
     "elapsed": 9,
     "status": "ok",
     "timestamp": 1656868996672,
     "user": {
      "displayName": "Yizhou Tan",
      "userId": "02431669335369619733"
     },
     "user_tz": 240
    },
    "id": "-rPnL-DZvnh-"
   },
   "outputs": [],
   "source": [
    "load_dotenv()\n",
    "PG_CONNECT = os.getenv(\"PG_CONNECT\")"
   ]
  },
  {
   "cell_type": "code",
   "execution_count": 10,
   "metadata": {
    "executionInfo": {
     "elapsed": 59304,
     "status": "ok",
     "timestamp": 1656869080335,
     "user": {
      "displayName": "Yizhou Tan",
      "userId": "02431669335369619733"
     },
     "user_tz": 240
    },
    "id": "kP74RVOyvniA"
   },
   "outputs": [],
   "source": [
    "# extracting the values of the indiv_unique_address collection\n",
    "indiv_aql = \"FOR x IN indiv_unique_address RETURN x\"\n",
    "indiv_query_result = corp_db.AQLQuery(indiv_aql,rawResults=True, batchSize = 1000)\n",
    "col_indiv = {}\n",
    "ind_indiv = 0\n",
    "\n",
    "for indiv in indiv_query_result:\n",
    "    col_indiv[ind_indiv] = indiv\n",
    "    ind_indiv += 1\n",
    "\n",
    "indiv_df = pd.DataFrame.from_dict(data = col_indiv, orient = 'index')\n",
    "indiv_ar = indiv_df.to_numpy()"
   ]
  },
  {
   "cell_type": "code",
   "execution_count": 29,
   "metadata": {},
   "outputs": [],
   "source": [
    "# a little bit more preprocessing\n",
    "\n",
    "indiv_df.loc[:,'NamePlusAddr'] = [' '.join((str(a),str(b))) for a,b in zip(indiv_df['IndividualNameShort'],indiv_df['Addr'])]\n",
    "indiv_ar_2 = indiv_df.to_numpy()\n",
    "\n",
    "unique_keys, indices = np.unique(indiv_ar_2[:,7], return_index=True)\n",
    "indiv_unique = indiv_ar_2[np.sort(indices)]\n",
    "# len(indiv_unique): 2092355\n",
    "\n",
    "indiv_u = np.delete(indiv_unique,(0,1,2),1)\n",
    "indiv_df_final = pd.DataFrame(indiv_u,columns = ['DataID','IndividualName','IndividualNameShort','Addr','NamePlusAddr'])\n",
    "\n",
    "# create json and write it to an existing empty json file\n",
    "result = indiv_df_final.to_json(orient=\"records\")\n",
    "parsed = json.loads(result)\n",
    "indiv_json = json.dumps(parsed, indent=4) \n",
    "\n",
    "with open('../indiv_name_addr.json', 'w') as outfile:\n",
    "    outfile.write(indiv_json)\n",
    "    \n",
    "# import as indiv_unique_name_addr collection"
   ]
  },
  {
   "cell_type": "code",
   "execution_count": 6,
   "metadata": {
    "executionInfo": {
     "elapsed": 59304,
     "status": "ok",
     "timestamp": 1656869080335,
     "user": {
      "displayName": "Yizhou Tan",
      "userId": "02431669335369619733"
     },
     "user_tz": 240
    },
    "id": "kP74RVOyvniA"
   },
   "outputs": [],
   "source": [
    "# extracting the values of the indiv_unique_name_address collection\n",
    "indiv_aql = \"FOR x IN indiv_unique_name_address RETURN x\"\n",
    "indiv_query_result = corp_db.AQLQuery(indiv_aql,rawResults=True, batchSize = 1000)\n",
    "col_indiv = {}\n",
    "ind_indiv = 0\n",
    "\n",
    "for indiv in indiv_query_result:\n",
    "    col_indiv[ind_indiv] = indiv\n",
    "    ind_indiv += 1\n",
    "\n",
    "indiv_short_df = pd.DataFrame.from_dict(data = col_indiv, orient = 'index')\n",
    "indiv_short = indiv_short_df.to_numpy()"
   ]
  },
  {
   "cell_type": "code",
   "execution_count": 7,
   "metadata": {},
   "outputs": [
    {
     "name": "stdout",
     "output_type": "stream",
     "text": [
      "['56380105' 'indiv_unique_address/56380105' '_ef6tPHC---' '00i6fl'\n",
      " 'RAMADAN MOHAMAD ZIAD' 'RAMADAN MOHAMAD'\n",
      " '85 NEWTON ST., , NORTHBOROUGH, MA']\n"
     ]
    }
   ],
   "source": [
    "print(indiv_ar[0])"
   ]
  },
  {
   "cell_type": "code",
   "execution_count": 18,
   "metadata": {
    "collapsed": true
   },
   "outputs": [
    {
     "name": "stdout",
     "output_type": "stream",
     "text": [
      "2000\n",
      "2000000 2001000\n",
      "2001\n",
      "2001000 2002000\n",
      "2002\n",
      "2002000 2003000\n",
      "2003\n",
      "2003000 2004000\n",
      "2004\n",
      "2004000 2005000\n",
      "2005\n",
      "2005000 2006000\n",
      "2006\n",
      "2006000 2007000\n",
      "2007\n",
      "2007000 2008000\n",
      "2008\n",
      "2008000 2009000\n",
      "2009\n",
      "2009000 2010000\n",
      "2010\n",
      "2010000 2011000\n",
      "2011\n",
      "2011000 2012000\n",
      "2012\n",
      "2012000 2013000\n",
      "2013\n",
      "2013000 2014000\n",
      "2014\n",
      "2014000 2015000\n",
      "2015\n",
      "2015000 2016000\n",
      "2016\n",
      "2016000 2017000\n",
      "2017\n",
      "2017000 2018000\n",
      "2018\n",
      "2018000 2019000\n",
      "2019\n",
      "2019000 2020000\n",
      "2020\n",
      "2020000 2021000\n",
      "2021\n",
      "2021000 2022000\n",
      "2022\n",
      "2022000 2023000\n",
      "2023\n",
      "2023000 2024000\n",
      "2024\n",
      "2024000 2025000\n",
      "2025\n",
      "2025000 2026000\n",
      "2026\n",
      "2026000 2027000\n",
      "2027\n",
      "2027000 2028000\n",
      "2028\n",
      "2028000 2029000\n",
      "2029\n",
      "2029000 2030000\n",
      "2030\n",
      "2030000 2031000\n",
      "2031\n",
      "2031000 2032000\n",
      "2032\n",
      "2032000 2033000\n",
      "2033\n",
      "2033000 2034000\n",
      "2034\n",
      "2034000 2035000\n",
      "2035\n",
      "2035000 2036000\n",
      "2036\n",
      "2036000 2037000\n",
      "2037\n",
      "2037000 2038000\n",
      "2038\n",
      "2038000 2039000\n",
      "2039\n",
      "2039000 2040000\n",
      "2040\n",
      "2040000 2041000\n",
      "2041\n",
      "2041000 2042000\n",
      "2042\n",
      "2042000 2043000\n",
      "2043\n",
      "2043000 2044000\n",
      "2044\n",
      "2044000 2045000\n",
      "2045\n",
      "2045000 2046000\n",
      "2046\n",
      "2046000 2047000\n",
      "2047\n",
      "2047000 2048000\n",
      "2048\n",
      "2048000 2049000\n",
      "2049\n",
      "2049000 2050000\n",
      "2050\n",
      "2050000 2051000\n",
      "2051\n",
      "2051000 2052000\n",
      "2052\n",
      "2052000 2053000\n",
      "2053\n",
      "2053000 2054000\n",
      "2054\n",
      "2054000 2055000\n",
      "2055\n",
      "2055000 2056000\n",
      "2056\n",
      "2056000 2057000\n",
      "2057\n",
      "2057000 2058000\n",
      "2058\n",
      "2058000 2059000\n",
      "2059\n",
      "2059000 2060000\n",
      "2060\n",
      "2060000 2061000\n",
      "2061\n",
      "2061000 2062000\n",
      "2062\n",
      "2062000 2063000\n",
      "2063\n",
      "2063000 2064000\n",
      "2064\n",
      "2064000 2065000\n",
      "2065\n",
      "2065000 2066000\n",
      "2066\n",
      "2066000 2067000\n",
      "2067\n",
      "2067000 2068000\n",
      "2068\n",
      "2068000 2069000\n",
      "2069\n",
      "2069000 2070000\n",
      "2070\n",
      "2070000 2071000\n",
      "2071\n",
      "2071000 2072000\n",
      "2072\n",
      "2072000 2073000\n",
      "2073\n",
      "2073000 2074000\n",
      "2074\n",
      "2074000 2075000\n",
      "2075\n",
      "2075000 2076000\n",
      "2076\n",
      "2076000 2077000\n",
      "2077\n",
      "2077000 2078000\n",
      "2078\n",
      "2078000 2079000\n",
      "2079\n",
      "2079000 2080000\n",
      "2080\n",
      "2080000 2081000\n",
      "2081\n",
      "2081000 2082000\n",
      "2082\n",
      "2082000 2083000\n",
      "2083\n",
      "2083000 2084000\n",
      "2084\n",
      "2084000 2085000\n",
      "2085\n",
      "2085000 2086000\n",
      "2086\n",
      "2086000 2087000\n",
      "2087\n",
      "2087000 2088000\n",
      "2088\n",
      "2088000 2089000\n",
      "2089\n",
      "2089000 2090000\n",
      "2090\n",
      "2090000 2091000\n",
      "2091\n",
      "2091000 2092000\n",
      "2092\n",
      "2092000 2093000\n"
     ]
    }
   ],
   "source": [
    "def indiv2indiv_same(indiv_ar, indiv_short, batch_size): \n",
    "    \n",
    "    for i in range(0,len(indiv_short)/batch_size):\n",
    "        print(i)\n",
    "        print(i*batch_size,(i+1)*batch_size)\n",
    "        batch_ar = indiv_short[i*batch_size:(i+1)*batch_size][:] \n",
    "        \n",
    "        for j in range(0,batch_ar.shape[0]):\n",
    "            id1 = batch_ar[j][1]\n",
    "            indivs = np.where((indiv_ar[:,7]==batch_ar[j][7]))[0]\n",
    "            id2 = indiv_ar[indivs][:,1]\n",
    "            for k in id2:\n",
    "                edge_attributes = {\"_from\":id1, \"_to\": k, \"type\": 'indiv/same/address'}\n",
    "                edge = corp_db[\"indiv2indiv\"].createDocument(edge_attributes)\n",
    "                edge.save()\n",
    "\n",
    "indiv2indiv_same(indiv_ar_2, indiv_short, 1000)"
   ]
  }
 ],
 "metadata": {
  "accelerator": "GPU",
  "colab": {
   "collapsed_sections": [],
   "name": "landowner_network.ipynb",
   "provenance": []
  },
  "gpuClass": "standard",
  "kernelspec": {
   "display_name": "NetworkCode",
   "language": "python",
   "name": "networkcode"
  },
  "language_info": {
   "codemirror_mode": {
    "name": "ipython",
    "version": 3
   },
   "file_extension": ".py",
   "mimetype": "text/x-python",
   "name": "python",
   "nbconvert_exporter": "python",
   "pygments_lexer": "ipython3",
   "version": "3.7.9"
  },
  "vscode": {
   "interpreter": {
    "hash": "137c83b3478ffedff7431332c4108c29fc5733a37d136ef8c89fd7a45cc0790b"
   }
  }
 },
 "nbformat": 4,
 "nbformat_minor": 1
}
